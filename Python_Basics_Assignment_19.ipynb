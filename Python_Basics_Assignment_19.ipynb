{
  "nbformat": 4,
  "nbformat_minor": 0,
  "metadata": {
    "colab": {
      "provenance": []
    },
    "kernelspec": {
      "name": "python3",
      "display_name": "Python 3"
    },
    "language_info": {
      "name": "python"
    }
  },
  "cells": [
    {
      "cell_type": "markdown",
      "source": [
        "### 1. Make a class called Thing with no contents and print it. Then, create an object called example from this class and also print it. Are the printed values the same or different?"
      ],
      "metadata": {
        "id": "xGi-wSVCi-st"
      }
    },
    {
      "cell_type": "code",
      "source": [
        "class Thing:\n",
        "  pass\n",
        "\n",
        "print(Thing)"
      ],
      "metadata": {
        "colab": {
          "base_uri": "https://localhost:8080/"
        },
        "id": "sLdUWyADjlpu",
        "outputId": "de6b0fda-6cc6-4ef7-ce0c-c9d0d5704256"
      },
      "execution_count": 5,
      "outputs": [
        {
          "output_type": "stream",
          "name": "stdout",
          "text": [
            "<class '__main__.Thing'>\n"
          ]
        }
      ]
    },
    {
      "cell_type": "code",
      "source": [
        "example= Thing()\n",
        "print(example)"
      ],
      "metadata": {
        "colab": {
          "base_uri": "https://localhost:8080/"
        },
        "id": "skimVd0uj5Zz",
        "outputId": "25af53bf-ae8b-444e-dbc0-fc4bcebb5df5"
      },
      "execution_count": 6,
      "outputs": [
        {
          "output_type": "stream",
          "name": "stdout",
          "text": [
            "<__main__.Thing object at 0x7fc09c310c10>\n"
          ]
        }
      ]
    },
    {
      "cell_type": "code",
      "source": [
        "# No the printed values are different."
      ],
      "metadata": {
        "id": "8wFgKvhTkaer"
      },
      "execution_count": 7,
      "outputs": []
    },
    {
      "cell_type": "markdown",
      "source": [
        "### 2. Create a new class called Thing2 and add the value 'abc' to the letters class attribute. Letters should be printed."
      ],
      "metadata": {
        "id": "g3jcqNkfjEuX"
      }
    },
    {
      "cell_type": "code",
      "source": [
        "class Thing2:\n",
        "  letters= 'abc'\n",
        "\n",
        "Thing2.letters"
      ],
      "metadata": {
        "colab": {
          "base_uri": "https://localhost:8080/",
          "height": 36
        },
        "id": "vhzkBw6okgvk",
        "outputId": "fe8d7dde-dcbc-4e02-f524-a76403257da9"
      },
      "execution_count": 8,
      "outputs": [
        {
          "output_type": "execute_result",
          "data": {
            "text/plain": [
              "'abc'"
            ],
            "application/vnd.google.colaboratory.intrinsic+json": {
              "type": "string"
            }
          },
          "metadata": {},
          "execution_count": 8
        }
      ]
    },
    {
      "cell_type": "markdown",
      "source": [
        "### 3. Make yet another class called, of course, Thing3. This time, assign the value 'xyz' to an instance (object) attribute called letters. Print letters. Do you need to make an object from the class to do this?"
      ],
      "metadata": {
        "id": "dZZlHz-LjGq0"
      }
    },
    {
      "cell_type": "code",
      "source": [
        "class Thing3:\n",
        "    def __init__(self, test_string):\n",
        "        self.string = test_string\n",
        "    def letters(self):\n",
        "        return self.string\n",
        "letters()"
      ],
      "metadata": {
        "colab": {
          "base_uri": "https://localhost:8080/",
          "height": 200
        },
        "id": "KDsy_e1bxQbC",
        "outputId": "de8cef3d-6165-4fdf-affe-fb5ce316ad73"
      },
      "execution_count": 14,
      "outputs": [
        {
          "output_type": "error",
          "ename": "NameError",
          "evalue": "ignored",
          "traceback": [
            "\u001b[0;31m---------------------------------------------------------------------------\u001b[0m",
            "\u001b[0;31mNameError\u001b[0m                                 Traceback (most recent call last)",
            "\u001b[0;32m<ipython-input-14-a12a6d3d1b59>\u001b[0m in \u001b[0;36m<module>\u001b[0;34m\u001b[0m\n\u001b[1;32m      4\u001b[0m     \u001b[0;32mdef\u001b[0m \u001b[0mletters\u001b[0m\u001b[0;34m(\u001b[0m\u001b[0mself\u001b[0m\u001b[0;34m)\u001b[0m\u001b[0;34m:\u001b[0m\u001b[0;34m\u001b[0m\u001b[0;34m\u001b[0m\u001b[0m\n\u001b[1;32m      5\u001b[0m         \u001b[0;32mreturn\u001b[0m \u001b[0mself\u001b[0m\u001b[0;34m.\u001b[0m\u001b[0mstring\u001b[0m\u001b[0;34m\u001b[0m\u001b[0;34m\u001b[0m\u001b[0m\n\u001b[0;32m----> 6\u001b[0;31m \u001b[0mletters\u001b[0m\u001b[0;34m(\u001b[0m\u001b[0;34m)\u001b[0m\u001b[0;34m\u001b[0m\u001b[0;34m\u001b[0m\u001b[0m\n\u001b[0m",
            "\u001b[0;31mNameError\u001b[0m: name 'letters' is not defined"
          ]
        }
      ]
    },
    {
      "cell_type": "code",
      "source": [
        "class Thing3:\n",
        "    def __init__(self, test_string):\n",
        "        self.string = test_string\n",
        "    def letters(self):\n",
        "        return self.string\n",
        "Thing3('xyz').letters()"
      ],
      "metadata": {
        "colab": {
          "base_uri": "https://localhost:8080/",
          "height": 36
        },
        "id": "GynR2RvdyUjc",
        "outputId": "55a669a8-16a2-4bae-c1db-e53c61a683b3"
      },
      "execution_count": 15,
      "outputs": [
        {
          "output_type": "execute_result",
          "data": {
            "text/plain": [
              "'xyz'"
            ],
            "application/vnd.google.colaboratory.intrinsic+json": {
              "type": "string"
            }
          },
          "metadata": {},
          "execution_count": 15
        }
      ]
    },
    {
      "cell_type": "code",
      "source": [
        "# Yes we need an object from the class to do it."
      ],
      "metadata": {
        "id": "gOiXFT4PyeIS"
      },
      "execution_count": null,
      "outputs": []
    },
    {
      "cell_type": "markdown",
      "source": [
        "### 4. Create an Element class with the instance attributes name, symbol, and number. Create a class object with the values 'Hydrogen,' 'H,' and 1."
      ],
      "metadata": {
        "id": "H1wN52bYjInd"
      }
    },
    {
      "cell_type": "code",
      "source": [
        "class Element:\n",
        "  def __init__(self, name, symbol, number):\n",
        "    self.name= name\n",
        "    self.symbol= symbol\n",
        "    self.number= number\n",
        "\n",
        "object1= Element('Hydrogen', 'H', 1)\n",
        "object1.name"
      ],
      "metadata": {
        "colab": {
          "base_uri": "https://localhost:8080/",
          "height": 36
        },
        "id": "0-42-vwtzC19",
        "outputId": "1a4280da-5d1c-433d-da5d-0ae9dbeebd3f"
      },
      "execution_count": 18,
      "outputs": [
        {
          "output_type": "execute_result",
          "data": {
            "text/plain": [
              "'Hydrogen'"
            ],
            "application/vnd.google.colaboratory.intrinsic+json": {
              "type": "string"
            }
          },
          "metadata": {},
          "execution_count": 18
        }
      ]
    },
    {
      "cell_type": "markdown",
      "source": [
        "### 5. Make a dictionary with these keys and values: 'name': 'Hydrogen', 'symbol': 'H', 'number': 1. Then, create an object called hydrogen from class Element using this dictionary."
      ],
      "metadata": {
        "id": "NspvkJhVjKmV"
      }
    },
    {
      "cell_type": "code",
      "source": [
        "test_dict = {'name':'Hydrogen', 'symbol':'H','number': 1}\n",
        "object2 = Element(**test_dict) # using dictionary unpacking **\n",
        "object2.symbol"
      ],
      "metadata": {
        "colab": {
          "base_uri": "https://localhost:8080/",
          "height": 36
        },
        "id": "C-9xba_Cz89Y",
        "outputId": "f50119d6-0302-4771-9a06-22ce8e718a7d"
      },
      "execution_count": 19,
      "outputs": [
        {
          "output_type": "execute_result",
          "data": {
            "text/plain": [
              "'H'"
            ],
            "application/vnd.google.colaboratory.intrinsic+json": {
              "type": "string"
            }
          },
          "metadata": {},
          "execution_count": 19
        }
      ]
    },
    {
      "cell_type": "markdown",
      "source": [
        "### 6. For the Element class, define a method called dump() that prints the values of the object’s attributes (name, symbol, and number). Create the hydrogen object from this new definition and use dump() to print its attributes."
      ],
      "metadata": {
        "id": "inyKFyNojMva"
      }
    },
    {
      "cell_type": "code",
      "source": [
        "class Element:\n",
        "  def __init__(self, name, symbol, number):\n",
        "    self.name= name\n",
        "    self.symbol= symbol\n",
        "    self.number= number\n",
        "\n",
        "  def dump(self):\n",
        "    return self.name, self.symbol, self.number\n",
        "\n",
        "hydrogen_object = Element('Hydrogen','H',1)\n",
        "hydrogen_object.dump()"
      ],
      "metadata": {
        "colab": {
          "base_uri": "https://localhost:8080/"
        },
        "id": "WYoiDg7u0rRz",
        "outputId": "3b269ead-0e2b-4e2a-9d2c-e9c9df68dc5d"
      },
      "execution_count": 20,
      "outputs": [
        {
          "output_type": "execute_result",
          "data": {
            "text/plain": [
              "('Hydrogen', 'H', 1)"
            ]
          },
          "metadata": {},
          "execution_count": 20
        }
      ]
    },
    {
      "cell_type": "markdown",
      "source": [
        "### 7. Call print(hydrogen). In the definition of Element, change the name of method dump to __str__, create a new hydrogen object, and call print(hydrogen) again."
      ],
      "metadata": {
        "id": "2-kzW3f-jO1r"
      }
    },
    {
      "cell_type": "code",
      "source": [
        "print(hydrogen_object)"
      ],
      "metadata": {
        "colab": {
          "base_uri": "https://localhost:8080/"
        },
        "id": "qvVJny_f2Lc7",
        "outputId": "626be14c-1987-4e0d-ffba-bf1a9ca33e12"
      },
      "execution_count": 21,
      "outputs": [
        {
          "output_type": "stream",
          "name": "stdout",
          "text": [
            "<__main__.Element object at 0x7ff883cfffd0>\n"
          ]
        }
      ]
    },
    {
      "cell_type": "code",
      "source": [
        "class Element:\n",
        "  def __init__(self, name, symbol, number):\n",
        "    self.name= name\n",
        "    self.symbol= symbol\n",
        "    self.number= number\n",
        "\n",
        "  def __str__(self):\n",
        "    return 'name=%s, symbol=%s, number=%s'% (self.name, self.symbol, self.number)\n",
        "\n",
        "hydrogen = Element('Hydrogen','H',1)\n",
        "print(hydrogen)"
      ],
      "metadata": {
        "colab": {
          "base_uri": "https://localhost:8080/"
        },
        "id": "mkUdZctu1Ufk",
        "outputId": "15ad44fe-c1f9-40b0-a504-d14ac7b43ad2"
      },
      "execution_count": 22,
      "outputs": [
        {
          "output_type": "stream",
          "name": "stdout",
          "text": [
            "name=Hydrogen, symbol=H, number=1\n"
          ]
        }
      ]
    },
    {
      "cell_type": "markdown",
      "source": [
        "### 8. Modify Element to make the attributes name, symbol, and number private. Define a getter property for each to return its value."
      ],
      "metadata": {
        "id": "ncNmwma9jQ94"
      }
    },
    {
      "cell_type": "code",
      "source": [
        "class Element:\n",
        "  def __init__(self, name, symbol, number):\n",
        "    self.__name= name\n",
        "    self.__symbol= symbol\n",
        "    self.__number= number\n",
        "  @property\n",
        "  def name(self):\n",
        "    return (self.__name)\n",
        "  @property\n",
        "  def symbol(self):\n",
        "    return (self.__symbol)\n",
        "  @property\n",
        "  def number(self):\n",
        "    return (self.__number)\n",
        "\n",
        "hydrogen = Element('Hydrogen','H',1)\n",
        "hydrogen.name "
      ],
      "metadata": {
        "colab": {
          "base_uri": "https://localhost:8080/",
          "height": 36
        },
        "id": "UKmMOwnW2WiN",
        "outputId": "92e77cde-9ffe-4fc1-b8bb-bf5ac3223709"
      },
      "execution_count": 23,
      "outputs": [
        {
          "output_type": "execute_result",
          "data": {
            "text/plain": [
              "'Hydrogen'"
            ],
            "application/vnd.google.colaboratory.intrinsic+json": {
              "type": "string"
            }
          },
          "metadata": {},
          "execution_count": 23
        }
      ]
    },
    {
      "cell_type": "markdown",
      "source": [
        "### 9. Define three classes: Bear, Rabbit, and Octothorpe. For each, define only one method: eats(). This should return 'berries' (Bear), 'clover' (Rabbit), or 'campers' (Octothorpe). Create one object from each and print what it eats."
      ],
      "metadata": {
        "id": "zDRLkKT7jTFM"
      }
    },
    {
      "cell_type": "code",
      "source": [
        "class Bear:\n",
        "  def eats(self):\n",
        "    return 'berries'\n",
        "\n",
        "class Rabbit:\n",
        "  def eats(self):\n",
        "    return 'clover'\n",
        "\n",
        "class Octothorpe:\n",
        "  def eats(self):\n",
        "    return 'campers'"
      ],
      "metadata": {
        "id": "pENc0sKZ3O_t"
      },
      "execution_count": 29,
      "outputs": []
    },
    {
      "cell_type": "code",
      "source": [
        "a= Bear()\n",
        "a.eats()"
      ],
      "metadata": {
        "colab": {
          "base_uri": "https://localhost:8080/",
          "height": 36
        },
        "id": "CtOTtDuZ4YxX",
        "outputId": "41a8d1b9-b681-47d5-f7f3-3db32d3630f3"
      },
      "execution_count": 26,
      "outputs": [
        {
          "output_type": "execute_result",
          "data": {
            "text/plain": [
              "'berries'"
            ],
            "application/vnd.google.colaboratory.intrinsic+json": {
              "type": "string"
            }
          },
          "metadata": {},
          "execution_count": 26
        }
      ]
    },
    {
      "cell_type": "code",
      "source": [
        "b= Rabbit()\n",
        "b.eats()"
      ],
      "metadata": {
        "colab": {
          "base_uri": "https://localhost:8080/",
          "height": 36
        },
        "id": "eMdaPXjY4dqJ",
        "outputId": "c2e746b5-45fd-41a5-ff31-ee2d0bbc059e"
      },
      "execution_count": 27,
      "outputs": [
        {
          "output_type": "execute_result",
          "data": {
            "text/plain": [
              "'clover'"
            ],
            "application/vnd.google.colaboratory.intrinsic+json": {
              "type": "string"
            }
          },
          "metadata": {},
          "execution_count": 27
        }
      ]
    },
    {
      "cell_type": "code",
      "source": [
        "c= Octothorpe()\n",
        "c.eats()"
      ],
      "metadata": {
        "colab": {
          "base_uri": "https://localhost:8080/",
          "height": 36
        },
        "id": "3evYx4DY4hOj",
        "outputId": "bdb0fac9-441a-428f-9fc7-5894b06f0e7e"
      },
      "execution_count": 28,
      "outputs": [
        {
          "output_type": "execute_result",
          "data": {
            "text/plain": [
              "'campers'"
            ],
            "application/vnd.google.colaboratory.intrinsic+json": {
              "type": "string"
            }
          },
          "metadata": {},
          "execution_count": 28
        }
      ]
    },
    {
      "cell_type": "markdown",
      "source": [
        "### 10. Define these classes: Laser, Claw, and SmartPhone. Each has only one method: does(). This returns 'disintegrate' (Laser), 'crush' (Claw), or 'ring' (SmartPhone). Then, define the class Robot that has one instance (object) of each of these. Define a does() method for the Robot that prints what its component objects do."
      ],
      "metadata": {
        "id": "2bYh6haljVCb"
      }
    },
    {
      "cell_type": "code",
      "source": [
        "class Laser:\n",
        "  def does(self):\n",
        "    return 'disintegrate'\n",
        "\n",
        "class Claw:\n",
        "  def does(self):\n",
        "    return 'crush'\n",
        "\n",
        "class SmartPhone:\n",
        "  def does(self):\n",
        "    return 'ring'\n",
        "\n",
        "class Robot:\n",
        "  def __init__(self):\n",
        "    self.laser= Laser()\n",
        "    self.claw= Claw()\n",
        "    self.smartphone= SmartPhone()\n",
        "\n",
        "  def does(self):\n",
        "    return self.laser.does(),self.claw.does(),self.smartphone.does()\n",
        "\n",
        "a= Robot()\n",
        "a.does()"
      ],
      "metadata": {
        "colab": {
          "base_uri": "https://localhost:8080/"
        },
        "id": "NFNFjwYTjXxU",
        "outputId": "5b93636e-36f4-4394-deaa-73b2939b5461"
      },
      "execution_count": 31,
      "outputs": [
        {
          "output_type": "execute_result",
          "data": {
            "text/plain": [
              "('disintegrate', 'crush', 'ring')"
            ]
          },
          "metadata": {},
          "execution_count": 31
        }
      ]
    }
  ]
}