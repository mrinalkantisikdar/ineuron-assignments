{
  "nbformat": 4,
  "nbformat_minor": 0,
  "metadata": {
    "colab": {
      "provenance": []
    },
    "kernelspec": {
      "name": "python3",
      "display_name": "Python 3"
    },
    "language_info": {
      "name": "python"
    }
  },
  "cells": [
    {
      "cell_type": "markdown",
      "source": [
        "### 1. Set the variable test1 to the string 'This is a test of the emergency text system,' and save test1 to a file named test.txt."
      ],
      "metadata": {
        "id": "ZQgDyDF87nUG"
      }
    },
    {
      "cell_type": "code",
      "source": [
        "test1= 'This is a test of the emergency text system,'\n",
        "file1= open('test.txt', 'w+')\n",
        "file1.write(test1)"
      ],
      "metadata": {
        "colab": {
          "base_uri": "https://localhost:8080/"
        },
        "id": "o0Gl23n7zH9v",
        "outputId": "558576e8-8c29-4c47-8b95-06a3fec9c101"
      },
      "execution_count": 4,
      "outputs": [
        {
          "output_type": "execute_result",
          "data": {
            "text/plain": [
              "44"
            ]
          },
          "metadata": {},
          "execution_count": 4
        }
      ]
    },
    {
      "cell_type": "markdown",
      "source": [
        "### 2. Read the contents of the file test.txt into the variable test2. Is there a difference between test 1 and test 2?"
      ],
      "metadata": {
        "id": "K2vZBU617pXe"
      }
    },
    {
      "cell_type": "code",
      "source": [
        "file2= open('test.txt', 'r')\n",
        "test2= file2.readline()\n",
        "test2"
      ],
      "metadata": {
        "colab": {
          "base_uri": "https://localhost:8080/",
          "height": 36
        },
        "id": "a-ngpZ7r8X7l",
        "outputId": "03a3a20c-b992-473a-85d6-5c572a62c698"
      },
      "execution_count": 5,
      "outputs": [
        {
          "output_type": "execute_result",
          "data": {
            "text/plain": [
              "'This is a test of the emergency text system,'"
            ],
            "application/vnd.google.colaboratory.intrinsic+json": {
              "type": "string"
            }
          },
          "metadata": {},
          "execution_count": 5
        }
      ]
    },
    {
      "cell_type": "code",
      "source": [
        "# There is no difference between test1 and test2"
      ],
      "metadata": {
        "id": "-oZMLFzNzWM7"
      },
      "execution_count": null,
      "outputs": []
    },
    {
      "cell_type": "markdown",
      "source": [
        "### 3. Create a CSV file called books.csv by using these lines:\n",
        "###title,author,year\n",
        "###The Weirdstone of Brisingamen,Alan Garner,1960\n",
        "###Perdido Street Station,China Miéville,2000\n",
        "###Thud!,Terry Pratchett,2005\n",
        "###The Spellman Files,Lisa Lutz,2007\n",
        "###Small Gods,Terry Pratchett,1992\n",
        "\n"
      ],
      "metadata": {
        "id": "2ZIFP3Mx7rgm"
      }
    },
    {
      "cell_type": "code",
      "source": [
        "import csv\n",
        "rows= [\n",
        "    ['title','author','year'],\n",
        "    ['The Weirdstone of Brisingamen','Alan Garner','1960'],\n",
        "    ['Perdido Street Station','China Miéville','2000'],\n",
        "    ['Thud!','Terry Pratchett','2005'],\n",
        "    ['The Spellman Files','Lisa Lutz','2007'],\n",
        "    ['Small Gods','Terry Pratchett','1992']\n",
        "]\n",
        "\n",
        "file3= open('books.csv', 'w+', newline='')\n",
        "writer= csv.writer(file3)\n",
        "writer.writerows(rows)"
      ],
      "metadata": {
        "id": "p6ammOaAzbfJ"
      },
      "execution_count": 11,
      "outputs": []
    },
    {
      "cell_type": "markdown",
      "source": [
        "### 4. Use the sqlite3 module to create a SQLite database called books.db, and a table called books with these fields: title (text), author (text), and year (integer)."
      ],
      "metadata": {
        "id": "nIadh0EL8CPZ"
      }
    },
    {
      "cell_type": "code",
      "source": [
        "import sqlite3\n",
        "conn = sqlite3.connect('books.db')\n",
        "c = conn.cursor()\n",
        "\n",
        "c.execute('create table books(title varchar(20),author varchar(20), year int)')\n",
        "conn.commit()"
      ],
      "metadata": {
        "id": "gCq0LEDE2_CA"
      },
      "execution_count": 16,
      "outputs": []
    },
    {
      "cell_type": "markdown",
      "source": [
        "### 5. Read books.csv and insert its data into the book table."
      ],
      "metadata": {
        "id": "4BQsmDrm7tJD"
      }
    },
    {
      "cell_type": "code",
      "source": [
        "import pandas as pd\n",
        "\n",
        "read_books = pd.read_csv('books.csv',encoding='unicode_escape')\n",
        "read_books.to_sql('books', conn, if_exists='append', index = False)"
      ],
      "metadata": {
        "id": "n9I0Ve4u4Did"
      },
      "execution_count": 17,
      "outputs": []
    },
    {
      "cell_type": "markdown",
      "source": [
        "### 6. Select and print the title column from the book table in alphabetical order."
      ],
      "metadata": {
        "id": "rG1CAk5V8Io3"
      }
    },
    {
      "cell_type": "code",
      "source": [
        "c.execute('select title from books order by title asc')\n",
        "print(c.fetchall())"
      ],
      "metadata": {
        "colab": {
          "base_uri": "https://localhost:8080/"
        },
        "id": "u77b80AE4dLG",
        "outputId": "4fe03766-0274-441b-d460-d555e6d8392e"
      },
      "execution_count": 18,
      "outputs": [
        {
          "output_type": "stream",
          "name": "stdout",
          "text": [
            "[('Perdido Street Station',), ('Small Gods',), ('The Spellman Files',), ('The Weirdstone of Brisingamen',), ('Thud!',)]\n"
          ]
        }
      ]
    },
    {
      "cell_type": "markdown",
      "source": [
        "### 7. From the book table, select and print all columns in the order of publication."
      ],
      "metadata": {
        "id": "dw4ZpQW98K73"
      }
    },
    {
      "cell_type": "code",
      "source": [
        "c.execute('select title, author,year from books order by year')\n",
        "df = pd.DataFrame(c.fetchall(), columns=['title','author','year'])\n",
        "df"
      ],
      "metadata": {
        "colab": {
          "base_uri": "https://localhost:8080/",
          "height": 206
        },
        "id": "srICfLEq4tyx",
        "outputId": "5c8a739f-b2c5-4312-a46b-241a55ae36ec"
      },
      "execution_count": 19,
      "outputs": [
        {
          "output_type": "execute_result",
          "data": {
            "text/plain": [
              "                           title           author  year\n",
              "0  The Weirdstone of Brisingamen      Alan Garner  1960\n",
              "1                     Small Gods  Terry Pratchett  1992\n",
              "2         Perdido Street Station  China MiÃ©ville  2000\n",
              "3                          Thud!  Terry Pratchett  2005\n",
              "4             The Spellman Files        Lisa Lutz  2007"
            ],
            "text/html": [
              "\n",
              "  <div id=\"df-06eb66f8-e398-422e-8078-7797046d2c8b\">\n",
              "    <div class=\"colab-df-container\">\n",
              "      <div>\n",
              "<style scoped>\n",
              "    .dataframe tbody tr th:only-of-type {\n",
              "        vertical-align: middle;\n",
              "    }\n",
              "\n",
              "    .dataframe tbody tr th {\n",
              "        vertical-align: top;\n",
              "    }\n",
              "\n",
              "    .dataframe thead th {\n",
              "        text-align: right;\n",
              "    }\n",
              "</style>\n",
              "<table border=\"1\" class=\"dataframe\">\n",
              "  <thead>\n",
              "    <tr style=\"text-align: right;\">\n",
              "      <th></th>\n",
              "      <th>title</th>\n",
              "      <th>author</th>\n",
              "      <th>year</th>\n",
              "    </tr>\n",
              "  </thead>\n",
              "  <tbody>\n",
              "    <tr>\n",
              "      <th>0</th>\n",
              "      <td>The Weirdstone of Brisingamen</td>\n",
              "      <td>Alan Garner</td>\n",
              "      <td>1960</td>\n",
              "    </tr>\n",
              "    <tr>\n",
              "      <th>1</th>\n",
              "      <td>Small Gods</td>\n",
              "      <td>Terry Pratchett</td>\n",
              "      <td>1992</td>\n",
              "    </tr>\n",
              "    <tr>\n",
              "      <th>2</th>\n",
              "      <td>Perdido Street Station</td>\n",
              "      <td>China MiÃ©ville</td>\n",
              "      <td>2000</td>\n",
              "    </tr>\n",
              "    <tr>\n",
              "      <th>3</th>\n",
              "      <td>Thud!</td>\n",
              "      <td>Terry Pratchett</td>\n",
              "      <td>2005</td>\n",
              "    </tr>\n",
              "    <tr>\n",
              "      <th>4</th>\n",
              "      <td>The Spellman Files</td>\n",
              "      <td>Lisa Lutz</td>\n",
              "      <td>2007</td>\n",
              "    </tr>\n",
              "  </tbody>\n",
              "</table>\n",
              "</div>\n",
              "      <button class=\"colab-df-convert\" onclick=\"convertToInteractive('df-06eb66f8-e398-422e-8078-7797046d2c8b')\"\n",
              "              title=\"Convert this dataframe to an interactive table.\"\n",
              "              style=\"display:none;\">\n",
              "        \n",
              "  <svg xmlns=\"http://www.w3.org/2000/svg\" height=\"24px\"viewBox=\"0 0 24 24\"\n",
              "       width=\"24px\">\n",
              "    <path d=\"M0 0h24v24H0V0z\" fill=\"none\"/>\n",
              "    <path d=\"M18.56 5.44l.94 2.06.94-2.06 2.06-.94-2.06-.94-.94-2.06-.94 2.06-2.06.94zm-11 1L8.5 8.5l.94-2.06 2.06-.94-2.06-.94L8.5 2.5l-.94 2.06-2.06.94zm10 10l.94 2.06.94-2.06 2.06-.94-2.06-.94-.94-2.06-.94 2.06-2.06.94z\"/><path d=\"M17.41 7.96l-1.37-1.37c-.4-.4-.92-.59-1.43-.59-.52 0-1.04.2-1.43.59L10.3 9.45l-7.72 7.72c-.78.78-.78 2.05 0 2.83L4 21.41c.39.39.9.59 1.41.59.51 0 1.02-.2 1.41-.59l7.78-7.78 2.81-2.81c.8-.78.8-2.07 0-2.86zM5.41 20L4 18.59l7.72-7.72 1.47 1.35L5.41 20z\"/>\n",
              "  </svg>\n",
              "      </button>\n",
              "      \n",
              "  <style>\n",
              "    .colab-df-container {\n",
              "      display:flex;\n",
              "      flex-wrap:wrap;\n",
              "      gap: 12px;\n",
              "    }\n",
              "\n",
              "    .colab-df-convert {\n",
              "      background-color: #E8F0FE;\n",
              "      border: none;\n",
              "      border-radius: 50%;\n",
              "      cursor: pointer;\n",
              "      display: none;\n",
              "      fill: #1967D2;\n",
              "      height: 32px;\n",
              "      padding: 0 0 0 0;\n",
              "      width: 32px;\n",
              "    }\n",
              "\n",
              "    .colab-df-convert:hover {\n",
              "      background-color: #E2EBFA;\n",
              "      box-shadow: 0px 1px 2px rgba(60, 64, 67, 0.3), 0px 1px 3px 1px rgba(60, 64, 67, 0.15);\n",
              "      fill: #174EA6;\n",
              "    }\n",
              "\n",
              "    [theme=dark] .colab-df-convert {\n",
              "      background-color: #3B4455;\n",
              "      fill: #D2E3FC;\n",
              "    }\n",
              "\n",
              "    [theme=dark] .colab-df-convert:hover {\n",
              "      background-color: #434B5C;\n",
              "      box-shadow: 0px 1px 3px 1px rgba(0, 0, 0, 0.15);\n",
              "      filter: drop-shadow(0px 1px 2px rgba(0, 0, 0, 0.3));\n",
              "      fill: #FFFFFF;\n",
              "    }\n",
              "  </style>\n",
              "\n",
              "      <script>\n",
              "        const buttonEl =\n",
              "          document.querySelector('#df-06eb66f8-e398-422e-8078-7797046d2c8b button.colab-df-convert');\n",
              "        buttonEl.style.display =\n",
              "          google.colab.kernel.accessAllowed ? 'block' : 'none';\n",
              "\n",
              "        async function convertToInteractive(key) {\n",
              "          const element = document.querySelector('#df-06eb66f8-e398-422e-8078-7797046d2c8b');\n",
              "          const dataTable =\n",
              "            await google.colab.kernel.invokeFunction('convertToInteractive',\n",
              "                                                     [key], {});\n",
              "          if (!dataTable) return;\n",
              "\n",
              "          const docLinkHtml = 'Like what you see? Visit the ' +\n",
              "            '<a target=\"_blank\" href=https://colab.research.google.com/notebooks/data_table.ipynb>data table notebook</a>'\n",
              "            + ' to learn more about interactive tables.';\n",
              "          element.innerHTML = '';\n",
              "          dataTable['output_type'] = 'display_data';\n",
              "          await google.colab.output.renderOutput(dataTable, element);\n",
              "          const docLink = document.createElement('div');\n",
              "          docLink.innerHTML = docLinkHtml;\n",
              "          element.appendChild(docLink);\n",
              "        }\n",
              "      </script>\n",
              "    </div>\n",
              "  </div>\n",
              "  "
            ]
          },
          "metadata": {},
          "execution_count": 19
        }
      ]
    },
    {
      "cell_type": "markdown",
      "source": [
        "### 8. Use the sqlalchemy module to connect to the sqlite3 database books.db that you just made in exercise 6."
      ],
      "metadata": {
        "id": "OgwHbbwr8NJm"
      }
    },
    {
      "cell_type": "code",
      "source": [
        "import sqlalchemy\n",
        "engine = sqlalchemy.create_engine(\"sqlite:///books.db\")\n",
        "rows = engine.execute('select * from books')\n",
        "for i in rows:\n",
        "    print(i)"
      ],
      "metadata": {
        "colab": {
          "base_uri": "https://localhost:8080/"
        },
        "id": "vRzhsL8t46-j",
        "outputId": "011f97f9-e0e9-4716-bd80-2dfcb55a8ec9"
      },
      "execution_count": 20,
      "outputs": [
        {
          "output_type": "stream",
          "name": "stdout",
          "text": [
            "('The Weirdstone of Brisingamen', 'Alan Garner', 1960)\n",
            "('Perdido Street Station', 'China MiÃ©ville', 2000)\n",
            "('Thud!', 'Terry Pratchett', 2005)\n",
            "('The Spellman Files', 'Lisa Lutz', 2007)\n",
            "('Small Gods', 'Terry Pratchett', 1992)\n"
          ]
        },
        {
          "output_type": "stream",
          "name": "stderr",
          "text": [
            "<ipython-input-20-03768d188b70>:3: RemovedIn20Warning: Deprecated API features detected! These feature(s) are not compatible with SQLAlchemy 2.0. To prevent incompatible upgrades prior to updating applications, ensure requirements files are pinned to \"sqlalchemy<2.0\". Set environment variable SQLALCHEMY_WARN_20=1 to show all deprecation warnings.  Set environment variable SQLALCHEMY_SILENCE_UBER_WARNING=1 to silence this message. (Background on SQLAlchemy 2.0 at: https://sqlalche.me/e/b8d9)\n",
            "  rows = engine.execute('select * from books')\n"
          ]
        }
      ]
    },
    {
      "cell_type": "markdown",
      "source": [
        "### 9. Install the Redis server and the Python redis library (pip install redis) on your computer. Create a Redis hash called test with the fields count (1) and name ('Fester Bestertester'). Print all the fields for test."
      ],
      "metadata": {
        "id": "TtoxwwZS8PVA"
      }
    },
    {
      "cell_type": "code",
      "source": [
        "!pip install redis-server redis"
      ],
      "metadata": {
        "colab": {
          "base_uri": "https://localhost:8080/"
        },
        "id": "MVDCFiRF5QOa",
        "outputId": "2bf336fa-4780-44ba-c6f4-8c78f1f84dbc"
      },
      "execution_count": 34,
      "outputs": [
        {
          "output_type": "stream",
          "name": "stdout",
          "text": [
            "Looking in indexes: https://pypi.org/simple, https://us-python.pkg.dev/colab-wheels/public/simple/\n",
            "Collecting redis-server\n",
            "  Downloading redis_server-6.0.9-202010301343-cp38-cp38-manylinux2010_x86_64.whl (5.5 MB)\n",
            "\u001b[2K     \u001b[90m━━━━━━━━━━━━━━━━━━━━━━━━━━━━━━━━━━━━━━━━\u001b[0m \u001b[32m5.5/5.5 MB\u001b[0m \u001b[31m34.3 MB/s\u001b[0m eta \u001b[36m0:00:00\u001b[0m\n",
            "\u001b[?25hRequirement already satisfied: redis in /usr/local/lib/python3.8/dist-packages (4.5.1)\n",
            "Requirement already satisfied: async-timeout>=4.0.2 in /usr/local/lib/python3.8/dist-packages (from redis) (4.0.2)\n",
            "Installing collected packages: redis-server\n",
            "Successfully installed redis-server-6.0.9\n"
          ]
        }
      ]
    },
    {
      "cell_type": "code",
      "source": [
        "import subprocess\n",
        "import redis_server\n",
        "subprocess.Popen([redis_server.REDIS_SERVER_PATH])"
      ],
      "metadata": {
        "colab": {
          "base_uri": "https://localhost:8080/"
        },
        "id": "k59v8S5YMTEI",
        "outputId": "5082fd53-2eb4-4212-9d61-213977646738"
      },
      "execution_count": 35,
      "outputs": [
        {
          "output_type": "execute_result",
          "data": {
            "text/plain": [
              "<subprocess.Popen at 0x7fd0cb9471f0>"
            ]
          },
          "metadata": {},
          "execution_count": 35
        }
      ]
    },
    {
      "cell_type": "code",
      "source": [
        "import redis\n",
        "client = redis.Redis(host = 'localhost', port=6379)\n",
        "\n",
        "client.ping()"
      ],
      "metadata": {
        "colab": {
          "base_uri": "https://localhost:8080/"
        },
        "id": "1leCh8ZzMkZy",
        "outputId": "8abf5d23-4b39-4658-94bb-705139bce10e"
      },
      "execution_count": 36,
      "outputs": [
        {
          "output_type": "execute_result",
          "data": {
            "text/plain": [
              "True"
            ]
          },
          "metadata": {},
          "execution_count": 36
        }
      ]
    },
    {
      "cell_type": "code",
      "source": [
        "import redis\n",
        "conn = redis.Redis()\n",
        "conn.delete('test')\n",
        "conn.hmset('test', {'count': 1, 'name': 'Fester Bestertester'})\n",
        "conn.hgetall('test')"
      ],
      "metadata": {
        "colab": {
          "base_uri": "https://localhost:8080/"
        },
        "id": "JEUQmQBR5TUT",
        "outputId": "272044b6-663f-4839-9127-3e78e0aae590"
      },
      "execution_count": 38,
      "outputs": [
        {
          "output_type": "stream",
          "name": "stderr",
          "text": [
            "<ipython-input-38-c05998fbf204>:4: DeprecationWarning: Redis.hmset() is deprecated. Use Redis.hset() instead.\n",
            "  conn.hmset('test', {'count': 1, 'name': 'Fester Bestertester'})\n"
          ]
        },
        {
          "output_type": "execute_result",
          "data": {
            "text/plain": [
              "{b'count': b'1', b'name': b'Fester Bestertester'}"
            ]
          },
          "metadata": {},
          "execution_count": 38
        }
      ]
    },
    {
      "cell_type": "markdown",
      "source": [
        "### 10. Increment the count field of test and print it."
      ],
      "metadata": {
        "id": "MtbzgJdS8Rmw"
      }
    },
    {
      "cell_type": "code",
      "source": [
        "conn.hincrby('test','count', 3)"
      ],
      "metadata": {
        "colab": {
          "base_uri": "https://localhost:8080/"
        },
        "id": "yAk5Xose8UJ0",
        "outputId": "faa88588-d0f3-423c-b5a5-6baca108e807"
      },
      "execution_count": 39,
      "outputs": [
        {
          "output_type": "execute_result",
          "data": {
            "text/plain": [
              "4"
            ]
          },
          "metadata": {},
          "execution_count": 39
        }
      ]
    }
  ]
}