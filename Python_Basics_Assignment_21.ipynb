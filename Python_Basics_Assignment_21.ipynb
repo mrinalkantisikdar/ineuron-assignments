{
  "nbformat": 4,
  "nbformat_minor": 0,
  "metadata": {
    "colab": {
      "provenance": []
    },
    "kernelspec": {
      "name": "python3",
      "display_name": "Python 3"
    },
    "language_info": {
      "name": "python"
    }
  },
  "cells": [
    {
      "cell_type": "markdown",
      "source": [
        "### 1. Add the current date to the text file today.txt as a string."
      ],
      "metadata": {
        "id": "ZXMd2VXbOh7j"
      }
    },
    {
      "cell_type": "code",
      "source": [
        "import datetime\n",
        "from datetime import date # just importing date\n",
        "now= date.today() # current date\n",
        "date_str = now.strftime(\"%d-%m-%Y\") # convert to string\n",
        "date_str"
      ],
      "metadata": {
        "colab": {
          "base_uri": "https://localhost:8080/",
          "height": 36
        },
        "id": "lT4yimemPEex",
        "outputId": "3ee9fedc-6671-4131-9c86-2e7263600a56"
      },
      "execution_count": 2,
      "outputs": [
        {
          "output_type": "execute_result",
          "data": {
            "text/plain": [
              "'25-02-2023'"
            ],
            "application/vnd.google.colaboratory.intrinsic+json": {
              "type": "string"
            }
          },
          "metadata": {},
          "execution_count": 2
        }
      ]
    },
    {
      "cell_type": "code",
      "source": [
        "file1= open('today.txt', 'w')\n",
        "file1.write(date_str)"
      ],
      "metadata": {
        "colab": {
          "base_uri": "https://localhost:8080/"
        },
        "id": "ZXg0aH9kSAQc",
        "outputId": "245386c5-096b-4583-d8d2-566e8d0f7582"
      },
      "execution_count": 6,
      "outputs": [
        {
          "output_type": "execute_result",
          "data": {
            "text/plain": [
              "10"
            ]
          },
          "metadata": {},
          "execution_count": 6
        }
      ]
    },
    {
      "cell_type": "markdown",
      "source": [
        "### 2. Read the text file today.txt into the string today_string\n"
      ],
      "metadata": {
        "id": "ocd-c-hSOkpG"
      }
    },
    {
      "cell_type": "code",
      "source": [
        "file2= open('today.txt', 'r')\n",
        "today_string= file2.read()\n",
        "today_string"
      ],
      "metadata": {
        "colab": {
          "base_uri": "https://localhost:8080/",
          "height": 36
        },
        "id": "Zm0ePsdfSbng",
        "outputId": "e0aa7ddc-1b12-4903-f374-d3d92b50ac42"
      },
      "execution_count": 8,
      "outputs": [
        {
          "output_type": "execute_result",
          "data": {
            "text/plain": [
              "'25-02-2023'"
            ],
            "application/vnd.google.colaboratory.intrinsic+json": {
              "type": "string"
            }
          },
          "metadata": {},
          "execution_count": 8
        }
      ]
    },
    {
      "cell_type": "markdown",
      "source": [
        "### 3. Parse the date from today_string."
      ],
      "metadata": {
        "id": "LV0rbw5aOmkD"
      }
    },
    {
      "cell_type": "code",
      "source": [
        "from datetime import datetime\n",
        "format = '%d-%m-%Y'\n",
        "datetime.strptime(today_string,format)"
      ],
      "metadata": {
        "colab": {
          "base_uri": "https://localhost:8080/"
        },
        "id": "WGxeE0hFS8Mg",
        "outputId": "ba09abf1-7f19-4a4b-bf7a-0f7d39a9c7fd"
      },
      "execution_count": 10,
      "outputs": [
        {
          "output_type": "execute_result",
          "data": {
            "text/plain": [
              "datetime.datetime(2023, 2, 25, 0, 0)"
            ]
          },
          "metadata": {},
          "execution_count": 10
        }
      ]
    },
    {
      "cell_type": "markdown",
      "source": [
        "### 4. List the files in your current directory"
      ],
      "metadata": {
        "id": "3QHph5YvOoz_"
      }
    },
    {
      "cell_type": "code",
      "source": [
        "import os"
      ],
      "metadata": {
        "id": "206AwXq_TzmW"
      },
      "execution_count": 11,
      "outputs": []
    },
    {
      "cell_type": "code",
      "source": [
        "ls"
      ],
      "metadata": {
        "colab": {
          "base_uri": "https://localhost:8080/"
        },
        "id": "fDBph8CfT2As",
        "outputId": "03c02f93-7732-404d-af00-86a7af9cf0a2"
      },
      "execution_count": 12,
      "outputs": [
        {
          "output_type": "stream",
          "name": "stdout",
          "text": [
            "\u001b[0m\u001b[01;34msample_data\u001b[0m/  today.txt\n"
          ]
        }
      ]
    },
    {
      "cell_type": "code",
      "source": [
        "os.listdir()"
      ],
      "metadata": {
        "colab": {
          "base_uri": "https://localhost:8080/"
        },
        "id": "n_GixcP2U8d6",
        "outputId": "6550aa31-8240-44fc-c2b8-a390ef7f50be"
      },
      "execution_count": 16,
      "outputs": [
        {
          "output_type": "execute_result",
          "data": {
            "text/plain": [
              "['.config',\n",
              " 'S2214785320378445.txt',\n",
              " 'today.txt',\n",
              " 'sem_hexa.jpg',\n",
              " 'Capture.JPG',\n",
              " 'S007967271000011X.txt',\n",
              " 'sample_data']"
            ]
          },
          "metadata": {},
          "execution_count": 16
        }
      ]
    },
    {
      "cell_type": "markdown",
      "source": [
        "### 5. Create a list of all of the files in your parent directory (minimum five files should be available)."
      ],
      "metadata": {
        "id": "YuCoRESUOqxu"
      }
    },
    {
      "cell_type": "code",
      "source": [
        "os.listdir()"
      ],
      "metadata": {
        "colab": {
          "base_uri": "https://localhost:8080/"
        },
        "id": "luUULQ9fUaPU",
        "outputId": "5ee277b9-3264-4054-bc25-5344683ec69c"
      },
      "execution_count": 15,
      "outputs": [
        {
          "output_type": "execute_result",
          "data": {
            "text/plain": [
              "['.config',\n",
              " 'S2214785320378445.txt',\n",
              " 'today.txt',\n",
              " 'sem_hexa.jpg',\n",
              " 'Capture.JPG',\n",
              " 'S007967271000011X.txt',\n",
              " 'sample_data']"
            ]
          },
          "metadata": {},
          "execution_count": 15
        }
      ]
    },
    {
      "cell_type": "markdown",
      "source": [
        "### 6. Use multiprocessing to create three separate processes. Make each one wait a random number of seconds between one and five, print the current time, and then exit."
      ],
      "metadata": {
        "id": "DM2mtTQ8OwxI"
      }
    },
    {
      "cell_type": "code",
      "source": [
        "import multiprocessing\n",
        "\n",
        "def printsec1(seconds):\n",
        "    from datetime import datetime\n",
        "    from time import sleep\n",
        "    sleep(seconds)\n",
        "    print('wait', seconds, 'seconds, time is', datetime.utcnow())\n",
        "    \n",
        "def printsec2(seconds):\n",
        "    from datetime import datetime\n",
        "    from time import sleep\n",
        "    sleep(seconds)\n",
        "    print('wait', seconds, 'seconds, time is', datetime.utcnow())\n",
        "\n",
        "def printsec3(seconds):\n",
        "    from datetime import datetime\n",
        "    from time import sleep\n",
        "    sleep(seconds)\n",
        "    print('wait', seconds, 'seconds, time is', datetime.utcnow())\n",
        "\n",
        "if __name__ == '__main__':\n",
        "    import random    \n",
        "    for n in range(3):\n",
        "        seconds = random.random()\n",
        "        proc1 = multiprocessing.Process(target=printsec, args=(seconds,))\n",
        "        proc2 = multiprocessing.Process(target=printsec, args=(seconds,))\n",
        "        proc3 = multiprocessing.Process(target=printsec, args=(seconds,))\n",
        "\n",
        "# starting process        \n",
        "proc1.start()\n",
        "proc2.start()\n",
        "proc3.start()\n",
        "\n",
        "# wait until process is finished\n",
        "proc1.join()\n",
        "proc2.join()\n",
        "proc3.join()\n",
        "\n",
        "print('done')"
      ],
      "metadata": {
        "colab": {
          "base_uri": "https://localhost:8080/"
        },
        "id": "6CEZ74KzU_2o",
        "outputId": "56c5d797-1b3d-42d6-ab95-8a86495d4b1d"
      },
      "execution_count": 19,
      "outputs": [
        {
          "output_type": "stream",
          "name": "stdout",
          "text": [
            "wait wait0.4815633755799086wait   seconds, time is0.48156337557990860.4815633755799086   2023-02-25 07:12:24.071417\n",
            "seconds, time isseconds, time is 2023-02-25 07:12:24.082666\n",
            " 2023-02-25 07:12:24.082769\n",
            "done\n"
          ]
        }
      ]
    },
    {
      "cell_type": "markdown",
      "source": [
        "### 7. Create a date object of your day of birth."
      ],
      "metadata": {
        "id": "7KboPcygO4iM"
      }
    },
    {
      "cell_type": "code",
      "source": [
        "my_dob = date(1993,12,28)\n",
        "my_dob"
      ],
      "metadata": {
        "colab": {
          "base_uri": "https://localhost:8080/"
        },
        "id": "YgmZ1kRHchN7",
        "outputId": "7d4d2473-45bb-43a5-cb63-bba7ea3c13df"
      },
      "execution_count": 23,
      "outputs": [
        {
          "output_type": "execute_result",
          "data": {
            "text/plain": [
              "datetime.date(1993, 12, 28)"
            ]
          },
          "metadata": {},
          "execution_count": 23
        }
      ]
    },
    {
      "cell_type": "markdown",
      "source": [
        "### 8. What day of the week was your day of birth?"
      ],
      "metadata": {
        "id": "mHhQVobxO618"
      }
    },
    {
      "cell_type": "code",
      "source": [
        "my_dob.weekday()"
      ],
      "metadata": {
        "colab": {
          "base_uri": "https://localhost:8080/"
        },
        "id": "vkqZa_4yczYi",
        "outputId": "5950312f-506f-4b64-c619-813431a3955b"
      },
      "execution_count": 24,
      "outputs": [
        {
          "output_type": "execute_result",
          "data": {
            "text/plain": [
              "1"
            ]
          },
          "metadata": {},
          "execution_count": 24
        }
      ]
    },
    {
      "cell_type": "markdown",
      "source": [
        "### 9. When will you be (or when were you) 10,000 days old?"
      ],
      "metadata": {
        "id": "aLa1S20BO90s"
      }
    },
    {
      "cell_type": "code",
      "execution_count": 25,
      "metadata": {
        "colab": {
          "base_uri": "https://localhost:8080/"
        },
        "id": "VsFAflaZOAUW",
        "outputId": "9c96943f-ccee-43d1-9e7e-dbf154401869"
      },
      "outputs": [
        {
          "output_type": "execute_result",
          "data": {
            "text/plain": [
              "datetime.date(2021, 5, 15)"
            ]
          },
          "metadata": {},
          "execution_count": 25
        }
      ],
      "source": [
        "from datetime import timedelta\n",
        "day10000 = my_dob + timedelta(days=10000)\n",
        "day10000"
      ]
    },
    {
      "cell_type": "code",
      "source": [],
      "metadata": {
        "id": "obwuJ8PkdFuB"
      },
      "execution_count": null,
      "outputs": []
    }
  ]
}