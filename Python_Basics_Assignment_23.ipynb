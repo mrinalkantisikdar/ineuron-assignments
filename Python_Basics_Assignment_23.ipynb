{
  "nbformat": 4,
  "nbformat_minor": 0,
  "metadata": {
    "colab": {
      "provenance": []
    },
    "kernelspec": {
      "name": "python3",
      "display_name": "Python 3"
    },
    "language_info": {
      "name": "python"
    }
  },
  "cells": [
    {
      "cell_type": "markdown",
      "source": [
        "### 1. What is the result of the code, and why?\n",
        "&gt;&gt;&gt; def func(a, b=6, c=8):\n",
        "print(a, b, c)\n",
        "&gt;&gt;&gt; func(1, 2)"
      ],
      "metadata": {
        "id": "M-nnoCWzjQGa"
      }
    },
    {
      "cell_type": "code",
      "source": [
        "def func(a, b=6, c=8):\n",
        "    print(a, b, c)\n",
        "func(1, 2)\n",
        "\n",
        "# Ans. This funtion is taking a positional argument and 2 keyward argument. \n",
        "# When function call func(1,2) is made, parameter passed  are a=1,b=2. When the function is executed , parameter c=8 will be taken by default as its a keyword argument.\n",
        "# solution is = 1,2,8"
      ],
      "metadata": {
        "colab": {
          "base_uri": "https://localhost:8080/"
        },
        "id": "ty21dp7njpL5",
        "outputId": "42067f2b-6a29-4275-e1a3-38672629ab0c"
      },
      "execution_count": 1,
      "outputs": [
        {
          "output_type": "stream",
          "name": "stdout",
          "text": [
            "1 2 8\n"
          ]
        }
      ]
    },
    {
      "cell_type": "markdown",
      "source": [
        "### 2. What is the result of this code, and why?\n",
        "&gt;&gt;&gt; def func(a, b, c=5):\n",
        "print(a, b, c)\n",
        "&gt;&gt;&gt; func(1, c=3, b=2)"
      ],
      "metadata": {
        "id": "ZVpyUbrCjVdp"
      }
    },
    {
      "cell_type": "code",
      "source": [
        "def func(a, b, c=5):\n",
        "    print(a, b, c)\n",
        "func(1, c=3, b=2)\n",
        "\n",
        "# Ans. When we make function call, order will be positional argument and then keywords arguments. we can pass the keyword arguments in any order we want.\n",
        "# Here a is taken to be 1 and b,c are explicitly given \n",
        "#Solution is 1,2,3"
      ],
      "metadata": {
        "colab": {
          "base_uri": "https://localhost:8080/"
        },
        "id": "x00pmsU1kPpg",
        "outputId": "764aed30-ca9b-43c9-9a19-ee8d671421a9"
      },
      "execution_count": 2,
      "outputs": [
        {
          "output_type": "stream",
          "name": "stdout",
          "text": [
            "1 2 3\n"
          ]
        }
      ]
    },
    {
      "cell_type": "markdown",
      "source": [
        "### 3. How about this code: what is its result, and why?\n",
        "&gt;&gt;&gt; def func(a, *pargs):\n",
        "print(a, pargs)\n",
        "&gt;&gt;&gt; func(1, 2, 3)"
      ],
      "metadata": {
        "id": "wwaNKgOLjX3W"
      }
    },
    {
      "cell_type": "code",
      "source": [
        "def func(a, *pargs):\n",
        "    print(a, pargs)\n",
        "func(1, 2, 3)\n",
        "\n",
        "# Ans.The return type of *args parameter is tuple, where as **kargs will be dictionary\n",
        "# here a is taken to be 1 and the rest (2,3) are taken as *pargs, which returns as a tuple\n",
        "#solution is = 1,(2,3)"
      ],
      "metadata": {
        "colab": {
          "base_uri": "https://localhost:8080/"
        },
        "id": "fTNGN1aeksS_",
        "outputId": "98388055-1dbb-4095-ce32-631358bea457"
      },
      "execution_count": 3,
      "outputs": [
        {
          "output_type": "stream",
          "name": "stdout",
          "text": [
            "1 (2, 3)\n"
          ]
        }
      ]
    },
    {
      "cell_type": "markdown",
      "source": [
        "### 4. What does this code print, and why?\n",
        "&gt;&gt;&gt; def func(a, **kargs):\n",
        "print(a, kargs)\n",
        "&gt;&gt;&gt; func(a=1, c=3, b=2)"
      ],
      "metadata": {
        "id": "voHBv0dIja-w"
      }
    },
    {
      "cell_type": "code",
      "source": [
        "def func(a, **kargs):\n",
        "    print(a, kargs)\n",
        "func(a=1, c=3, b=2)\n",
        "\n",
        "#Ans. The return type of  **kargs is  dictionary\n",
        "#solution is = 1,{'c':3,'b':2}"
      ],
      "metadata": {
        "colab": {
          "base_uri": "https://localhost:8080/"
        },
        "id": "6tNprbYmlJpg",
        "outputId": "f14bc440-af70-4d32-f49c-503b4b8491f2"
      },
      "execution_count": 4,
      "outputs": [
        {
          "output_type": "stream",
          "name": "stdout",
          "text": [
            "1 {'c': 3, 'b': 2}\n"
          ]
        }
      ]
    },
    {
      "cell_type": "markdown",
      "source": [
        "### 5. What gets printed by this, and explain?\n",
        "&gt;&gt;&gt; def func(a, b, c=8, d=5): print(a, b, c, d)\n",
        "&gt;&gt;&gt; func(1, *(5, 6))"
      ],
      "metadata": {
        "id": "31XiL2XBjeGM"
      }
    },
    {
      "cell_type": "code",
      "source": [
        "def func(a, b, c=8, d=5): \n",
        "    print(a, b, c, d)\n",
        "func(1, *(5, 6))\n",
        "\n",
        "# '*' is the unpacking operator and are operators that unpack the values from iterable objects in Python.\n",
        "#   The single asterisk operator * can be used on any iterable that Python provides \n",
        " #  while the double asterisk operator ** can only be used on dictionaries.  \n",
        " #  In the example the value *(5,6) will be unpacked and will be assigned to b and c and passed as arguments, d =5 will taken by defaults are keyword arguments.\n",
        "\n",
        "  #  Solution 1,5,6,5"
      ],
      "metadata": {
        "colab": {
          "base_uri": "https://localhost:8080/"
        },
        "id": "jRKu--v5lZx0",
        "outputId": "b808a393-e4a6-4921-8def-cf9a62fff529"
      },
      "execution_count": 5,
      "outputs": [
        {
          "output_type": "stream",
          "name": "stdout",
          "text": [
            "1 5 6 5\n"
          ]
        }
      ]
    },
    {
      "cell_type": "markdown",
      "source": [
        "### 6. what is the result of this, and explain?\n",
        "&gt;&gt;&gt; def func(a, b, c): a = 2; b[0] = &#39;x&#39;; c[&#39;a&#39;] = &#39;y&#39;\n",
        "&gt;&gt;&gt; l=1; m=[1]; n={&#39;a&#39;:0}\n",
        "&gt;&gt;&gt; func(l, m, n)\n",
        "&gt;&gt;&gt; l, m, n"
      ],
      "metadata": {
        "id": "bnhtoYlcjgfT"
      }
    },
    {
      "cell_type": "code",
      "source": [
        "def func(a, b, c): \n",
        "    a = 2; b[0] = 'x'; c['a'] = 'y'\n",
        "    \n",
        "l=1; m=[1]; n={'a':0}\n",
        "func(l, m, n)\n",
        "\n",
        "l, m, n\n",
        "\n",
        "# Ans. Here in the code, the list and dictionary are passed as argument, and those are mutable. \n",
        "#Here the list l and parameter b point to the same list in the memory location where as dict n and c point to the same memory location. \n",
        "#Any updates to this list will update in the memory location\n",
        "#l = 1 , integer values, immutable, m is list, mutable, n is dict, mutable.\n",
        "#output will be = 1,['x'],{'a':'y'}"
      ],
      "metadata": {
        "colab": {
          "base_uri": "https://localhost:8080/"
        },
        "id": "3_PE-R_Qjk-g",
        "outputId": "b79af135-a4e0-4833-c1ec-8deadfeb8dca"
      },
      "execution_count": 6,
      "outputs": [
        {
          "output_type": "execute_result",
          "data": {
            "text/plain": [
              "(1, ['x'], {'a': 'y'})"
            ]
          },
          "metadata": {},
          "execution_count": 6
        }
      ]
    },
    {
      "cell_type": "code",
      "source": [],
      "metadata": {
        "id": "XgxjMBz2l3Zg"
      },
      "execution_count": null,
      "outputs": []
    }
  ]
}