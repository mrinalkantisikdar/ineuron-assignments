{
  "nbformat": 4,
  "nbformat_minor": 0,
  "metadata": {
    "colab": {
      "provenance": []
    },
    "kernelspec": {
      "name": "python3",
      "display_name": "Python 3"
    },
    "language_info": {
      "name": "python"
    }
  },
  "cells": [
    {
      "cell_type": "markdown",
      "source": [
        "### 1. Write a Python program to print &quot;Hello Python&quot;?"
      ],
      "metadata": {
        "id": "jz_DvT1e0A9_"
      }
    },
    {
      "cell_type": "code",
      "source": [
        "print(\"Hello Python\")"
      ],
      "metadata": {
        "colab": {
          "base_uri": "https://localhost:8080/"
        },
        "id": "AHZHCdLg0R6V",
        "outputId": "cb59cb03-d658-42b2-e77c-6260fdabf056"
      },
      "execution_count": 1,
      "outputs": [
        {
          "output_type": "stream",
          "name": "stdout",
          "text": [
            "Hello Python\n"
          ]
        }
      ]
    },
    {
      "cell_type": "markdown",
      "source": [
        "### 2. Write a Python program to do arithmetical operations addition and division.?"
      ],
      "metadata": {
        "id": "GKCa1wl10E7_"
      }
    },
    {
      "cell_type": "code",
      "source": [
        "num1= float(input('Enter the first number:  '))\n",
        "num2= float(input('Enter the second number: '))\n",
        "\n",
        "sum= num1 + num2\n",
        "\n",
        "print(f'The sum of the numbers is :',  (sum))"
      ],
      "metadata": {
        "colab": {
          "base_uri": "https://localhost:8080/"
        },
        "id": "VR8NawL60vyO",
        "outputId": "97fea7d8-415b-4d74-afdb-04a7cd5c6c16"
      },
      "execution_count": 6,
      "outputs": [
        {
          "output_type": "stream",
          "name": "stdout",
          "text": [
            "Enter the first number:  4.5\n",
            "Enter the second number: 4.8\n",
            "The sum of the numbers is : 9.3\n"
          ]
        }
      ]
    },
    {
      "cell_type": "code",
      "source": [
        "num1= float(input('Enter the first number:  '))\n",
        "num2= float(input('Enter the second number: '))\n",
        "\n",
        "quotient= num1/num2\n",
        "\n",
        "print(f\"first number divided by second number equals: \", quotient)"
      ],
      "metadata": {
        "colab": {
          "base_uri": "https://localhost:8080/"
        },
        "id": "jQUy9ZFJ2KPr",
        "outputId": "0d5de4d1-2567-4706-9dcc-3a22320daa19"
      },
      "execution_count": 7,
      "outputs": [
        {
          "output_type": "stream",
          "name": "stdout",
          "text": [
            "Enter the first number:  4.9\n",
            "Enter the second number: 5.8\n",
            "first number divided by second number equals:  0.8448275862068967\n"
          ]
        }
      ]
    },
    {
      "cell_type": "markdown",
      "source": [
        "### 3. Write a Python program to find the area of a triangle?"
      ],
      "metadata": {
        "id": "IJKGCdGI0HXI"
      }
    },
    {
      "cell_type": "code",
      "source": [
        "# Three sides of the triangle is a, b and c:  \n",
        "a = float(input('Enter first side: '))  \n",
        "b = float(input('Enter second side: '))  \n",
        "c = float(input('Enter third side: '))  \n",
        "  \n",
        "# calculate the semi-perimeter  \n",
        "s = (a + b + c) / 2  \n",
        "  \n",
        "# calculate the area  \n",
        "area = (s*(s-a)*(s-b)*(s-c)) ** 0.5  \n",
        "print(f'The area of the triangle is:  ', area)   "
      ],
      "metadata": {
        "colab": {
          "base_uri": "https://localhost:8080/"
        },
        "id": "K_OncbDn24S7",
        "outputId": "28e2a11a-a440-4f16-e72a-27363418f686"
      },
      "execution_count": 9,
      "outputs": [
        {
          "output_type": "stream",
          "name": "stdout",
          "text": [
            "Enter first side: 4\n",
            "Enter second side: 3\n",
            "Enter third side: 5\n",
            "The area of the triangle is:   6.0\n"
          ]
        }
      ]
    },
    {
      "cell_type": "markdown",
      "source": [
        "### 4. Write a Python program to swap two variables?"
      ],
      "metadata": {
        "id": "SKtfyjQf0J1a"
      }
    },
    {
      "cell_type": "code",
      "source": [
        "x = input('Enter value of x: ')\n",
        "y = input('Enter value of y: ')\n",
        "\n",
        "# create a temporary variable and swap the values\n",
        "temp = x\n",
        "x = y\n",
        "y = temp\n",
        "\n",
        "print(f'The value of x after swapping: ', x)\n",
        "print(f'The value of y after swapping: ', y)"
      ],
      "metadata": {
        "colab": {
          "base_uri": "https://localhost:8080/"
        },
        "id": "PwpdZqJq3pUk",
        "outputId": "6c28061c-9efa-4a29-af84-b1b6d856fe33"
      },
      "execution_count": 10,
      "outputs": [
        {
          "output_type": "stream",
          "name": "stdout",
          "text": [
            "Enter value of x: 5\n",
            "Enter value of y: 6\n",
            "The value of x after swapping:  6\n",
            "The value of y after swapping:  5\n"
          ]
        }
      ]
    },
    {
      "cell_type": "markdown",
      "source": [
        "### 5. Write a Python program to generate a random number?"
      ],
      "metadata": {
        "id": "SeggUUuV0MWy"
      }
    },
    {
      "cell_type": "code",
      "source": [
        "# Program to generate a random number between 0 and 9\n",
        "# importing the random module\n",
        "import random\n",
        "print(random.randint(0,9))"
      ],
      "metadata": {
        "colab": {
          "base_uri": "https://localhost:8080/"
        },
        "id": "wt3fAtsv0OfG",
        "outputId": "ac52f414-b15c-4450-9e74-f3a65b2e0b49"
      },
      "execution_count": 14,
      "outputs": [
        {
          "output_type": "stream",
          "name": "stdout",
          "text": [
            "5\n"
          ]
        }
      ]
    }
  ]
}