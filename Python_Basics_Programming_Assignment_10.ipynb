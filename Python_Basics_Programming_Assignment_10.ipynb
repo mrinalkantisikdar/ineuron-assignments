{
  "nbformat": 4,
  "nbformat_minor": 0,
  "metadata": {
    "colab": {
      "provenance": []
    },
    "kernelspec": {
      "name": "python3",
      "display_name": "Python 3"
    },
    "language_info": {
      "name": "python"
    }
  },
  "cells": [
    {
      "cell_type": "markdown",
      "source": [
        "### 1. Write a Python program to find sum of elements in list?"
      ],
      "metadata": {
        "id": "8k9nSUTeuLRd"
      }
    },
    {
      "cell_type": "code",
      "source": [
        "lst= [1,2,3,4,5,6,7,8,9, 10]\n",
        "\n",
        "sum=0\n",
        "\n",
        "for i in lst:\n",
        "  sum= sum + i\n",
        "\n",
        "print(f'The required sum of the elements of the list is {sum}.')\n"
      ],
      "metadata": {
        "colab": {
          "base_uri": "https://localhost:8080/"
        },
        "id": "AS4STodFunGl",
        "outputId": "9447c3ef-5aeb-40aa-f6f9-932fe94323e1"
      },
      "execution_count": 20,
      "outputs": [
        {
          "output_type": "stream",
          "name": "stdout",
          "text": [
            "55\n"
          ]
        }
      ]
    },
    {
      "cell_type": "markdown",
      "source": [
        "### 2. Write a Python program to Multiply all numbers in the list?"
      ],
      "metadata": {
        "id": "Ka8dafzCuNuW"
      }
    },
    {
      "cell_type": "code",
      "source": [
        "lst= [1,2,3,4,5,6,7,8,9, 10]\n",
        "\n",
        "product= 1\n",
        "\n",
        "for i in lst:\n",
        "  product= product * i\n",
        "\n",
        "print(f'The required product of the elements of the list is {product}.')"
      ],
      "metadata": {
        "colab": {
          "base_uri": "https://localhost:8080/"
        },
        "id": "XLbPKi-bvjO6",
        "outputId": "c1139f86-06ec-49c1-ddc9-d90be8900a3a"
      },
      "execution_count": 39,
      "outputs": [
        {
          "output_type": "stream",
          "name": "stdout",
          "text": [
            "The required product of the elements of the list is 3628800.\n"
          ]
        }
      ]
    },
    {
      "cell_type": "markdown",
      "source": [
        "### 3. Write a Python program to find smallest number in a list?"
      ],
      "metadata": {
        "id": "0S_XoWxGuPzC"
      }
    },
    {
      "cell_type": "code",
      "source": [
        "lst= [1,2,3,4,5,6,7,8,9, 10]\n",
        "\n",
        "\n",
        "min= lst[0]\n",
        "\n",
        "for i in lst:\n",
        "  if i < min:\n",
        "    min = i\n",
        "\n",
        "print(f'The smallest number in the list is {min}')"
      ],
      "metadata": {
        "colab": {
          "base_uri": "https://localhost:8080/"
        },
        "id": "NeFoV1zRv1uj",
        "outputId": "491d3ff9-848c-4f09-fe05-24012e7de24c"
      },
      "execution_count": 40,
      "outputs": [
        {
          "output_type": "stream",
          "name": "stdout",
          "text": [
            "The smallest number in the list is 1\n"
          ]
        }
      ]
    },
    {
      "cell_type": "markdown",
      "source": [
        "### 4. Write a Python program to find largest number in a list?"
      ],
      "metadata": {
        "id": "KZxRuZWJuR_d"
      }
    },
    {
      "cell_type": "code",
      "source": [
        "lst= [1,2,3,4,5,6,7,8,9, 10]\n",
        "\n",
        "\n",
        "max= lst[0]\n",
        "\n",
        "for i in lst:\n",
        "  if i > max:\n",
        "    max = i\n",
        "\n",
        "print(f'The largest number in the list is {max}')"
      ],
      "metadata": {
        "colab": {
          "base_uri": "https://localhost:8080/"
        },
        "id": "VgPTOfcZxPwd",
        "outputId": "bcbf77ac-32be-4bd0-9179-90bab0952e44"
      },
      "execution_count": 41,
      "outputs": [
        {
          "output_type": "stream",
          "name": "stdout",
          "text": [
            "The largest number in the list is 10\n"
          ]
        }
      ]
    },
    {
      "cell_type": "markdown",
      "source": [
        "### 5. Write a Python program to find second largest number in a list?"
      ],
      "metadata": {
        "id": "9yGuSVCmuUYF"
      }
    },
    {
      "cell_type": "code",
      "source": [
        "lst= [1,9,3,5,7,2]\n",
        "\n",
        "lst.sort()\n",
        "\n",
        "print(f'The second largest number in the list is {lst[-2]}')"
      ],
      "metadata": {
        "colab": {
          "base_uri": "https://localhost:8080/"
        },
        "id": "ev8Q-VrMxYBu",
        "outputId": "d37e0a5d-f22a-46fd-bce0-aa21c8d2f175"
      },
      "execution_count": 42,
      "outputs": [
        {
          "output_type": "stream",
          "name": "stdout",
          "text": [
            "The second largest number in the list is 7\n"
          ]
        }
      ]
    },
    {
      "cell_type": "markdown",
      "source": [
        "### 6. Write a Python program to find N largest elements from a list?"
      ],
      "metadata": {
        "id": "-p9HoYAYuW4J"
      }
    },
    {
      "cell_type": "code",
      "source": [
        "lst= [1,9,3,5,7,2]\n",
        "\n",
        "lst.sort()\n",
        "\n",
        "nth_largest= int(input('enter the N-th largest element you want to see: '))\n",
        "print(f'the {nth_largest}th largest element in the list is:  {lst[-nth_largest]}')"
      ],
      "metadata": {
        "colab": {
          "base_uri": "https://localhost:8080/"
        },
        "id": "DVEgmJk13wO5",
        "outputId": "aa6d0195-f19b-4580-a02e-985301a7fb8b"
      },
      "execution_count": 31,
      "outputs": [
        {
          "output_type": "stream",
          "name": "stdout",
          "text": [
            "enter the N-th largest element you want to see: 2\n",
            "the 2th largest element in the list is:  7\n"
          ]
        }
      ]
    },
    {
      "cell_type": "markdown",
      "source": [
        "### 7. Write a Python program to print even numbers in a list?"
      ],
      "metadata": {
        "id": "RlOpU0UUuZCo"
      }
    },
    {
      "cell_type": "code",
      "source": [
        "lower= int(input('enter the lower range of the required even numbers:  '))\n",
        "upper= int(input('enter the upper range of the required even numbers:   '))\n",
        "lst=[]\n",
        "for i in range(lower, upper + 1):\n",
        "  if i % 2 ==0:\n",
        "    lst.append(i)\n",
        "\n",
        "print(f'The list of even numbers in the given range is {lst}')"
      ],
      "metadata": {
        "colab": {
          "base_uri": "https://localhost:8080/"
        },
        "id": "FMswRBO55HiA",
        "outputId": "5aa8b07f-b097-4f47-afa2-b53d0cbda504"
      },
      "execution_count": 43,
      "outputs": [
        {
          "output_type": "stream",
          "name": "stdout",
          "text": [
            "enter the lower range of the required even numbers:  1\n",
            "enter the upper range of the required even numbers:   10\n",
            "The list of even numbers in the given range is [2, 4, 6, 8, 10]\n"
          ]
        }
      ]
    },
    {
      "cell_type": "markdown",
      "source": [
        "### 8. Write a Python program to print odd numbers in a List?"
      ],
      "metadata": {
        "id": "5XQM_xp0ubx1"
      }
    },
    {
      "cell_type": "code",
      "source": [
        "lower= int(input('enter the lower range of the required even numbers:  '))\n",
        "upper= int(input('enter the upper range of the required even numbers:   '))\n",
        "lst=[]\n",
        "for i in range(lower, upper + 1):\n",
        "  if i % 2 != 0:\n",
        "    lst.append(i)\n",
        "\n",
        "print(f'The list of odd numbers in the given range is {lst}')"
      ],
      "metadata": {
        "colab": {
          "base_uri": "https://localhost:8080/"
        },
        "id": "Nxj04GRO6tdt",
        "outputId": "edb1ae2c-b669-4ff9-bd8a-e6b6e3f5684a"
      },
      "execution_count": 44,
      "outputs": [
        {
          "output_type": "stream",
          "name": "stdout",
          "text": [
            "enter the lower range of the required even numbers:  1\n",
            "enter the upper range of the required even numbers:   10\n",
            "The list of odd numbers in the given range is [1, 3, 5, 7, 9]\n"
          ]
        }
      ]
    },
    {
      "cell_type": "markdown",
      "source": [
        "### 9. Write a Python program to Remove empty List from List?1"
      ],
      "metadata": {
        "id": "HIS6T1AeueCo"
      }
    },
    {
      "cell_type": "code",
      "source": [
        "test_list = [5, 6, [], 3, [], [], 9]\n",
        "\n",
        "# printing original list\n",
        "print(\"The original list is : \" + str(test_list))\n",
        "\n",
        "# Remove empty List from List\n",
        "# using list comprehension\n",
        "res = [ele for ele in test_list if ele != []]\n",
        "\n",
        "# printing result\n",
        "print(\"List after empty list removal : \" + str(res))\n"
      ],
      "metadata": {
        "colab": {
          "base_uri": "https://localhost:8080/"
        },
        "id": "kZXyT5_b63lk",
        "outputId": "18f75997-6b6d-4f25-99cc-2917a21d8aa7"
      },
      "execution_count": 38,
      "outputs": [
        {
          "output_type": "stream",
          "name": "stdout",
          "text": [
            "The original list is : [5, 6, [], 3, [], [], 9]\n",
            "List after empty list removal : [5, 6, 3, 9]\n"
          ]
        }
      ]
    },
    {
      "cell_type": "markdown",
      "source": [
        "### 10. Write a Python program to Cloning or Copying a list?"
      ],
      "metadata": {
        "id": "cgJc0d3pugwb"
      }
    },
    {
      "cell_type": "code",
      "source": [
        "def Cloning(li1):\n",
        "    li_copy =[]\n",
        "    li_copy = li1.copy()\n",
        "    return li_copy\n",
        "   \n",
        "# Driver Code\n",
        "li1 = [4, 8, 2, 10, 15, 18]\n",
        "li2 = Cloning(li1)\n",
        "print(\"Original List:\", li1)\n",
        "print(\"After Cloning:\", li2)"
      ],
      "metadata": {
        "colab": {
          "base_uri": "https://localhost:8080/"
        },
        "id": "INdwx7pi7to0",
        "outputId": "a07fc433-1abd-455f-c92e-12edd02067c3"
      },
      "execution_count": 45,
      "outputs": [
        {
          "output_type": "stream",
          "name": "stdout",
          "text": [
            "Original List: [4, 8, 2, 10, 15, 18]\n",
            "After Cloning: [4, 8, 2, 10, 15, 18]\n"
          ]
        }
      ]
    },
    {
      "cell_type": "markdown",
      "source": [
        "### 11. Write a Python program to Count occurrences of an element in a list?"
      ],
      "metadata": {
        "id": "qKrXGjTIukO9"
      }
    },
    {
      "cell_type": "code",
      "source": [
        "lst= [1,1,2,3,5,5,9,4,4,4,4,4,4,5]\n",
        "ele= int(input('enter the element whose occurrences you want to know in the list:   '))\n",
        "\n",
        "count = 0\n",
        "for i in lst:\n",
        "  if i == ele:\n",
        "    count= count+1\n",
        "\n",
        "print(f'The element {ele} occurs in the list {count} times.')"
      ],
      "metadata": {
        "colab": {
          "base_uri": "https://localhost:8080/"
        },
        "id": "z93IImmd9Lx0",
        "outputId": "474cce13-37ac-4bcf-db66-1d794b174675"
      },
      "execution_count": 56,
      "outputs": [
        {
          "output_type": "stream",
          "name": "stdout",
          "text": [
            "enter the element whose occurrences you want to know in the list:   5\n",
            "The element 5 occurs in the list 3 times.\n"
          ]
        }
      ]
    }
  ]
}