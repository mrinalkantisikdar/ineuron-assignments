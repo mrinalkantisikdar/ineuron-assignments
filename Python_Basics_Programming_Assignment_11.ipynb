{
  "nbformat": 4,
  "nbformat_minor": 0,
  "metadata": {
    "colab": {
      "provenance": []
    },
    "kernelspec": {
      "name": "python3",
      "display_name": "Python 3"
    },
    "language_info": {
      "name": "python"
    }
  },
  "cells": [
    {
      "cell_type": "markdown",
      "source": [
        "### 1. Write a Python program to find words which are greater than given length k?"
      ],
      "metadata": {
        "id": "PRLt4xSY_rjp"
      }
    },
    {
      "cell_type": "code",
      "source": [
        "word= str(input('enter a word:    '))\n",
        "length= int(input('enter the minimum length of word required:    '))\n",
        "\n",
        "if len(word) < length:\n",
        "  print('Sorry, find a longer word')\n",
        "elif len(word)== length:\n",
        "  print('Just one more letter longer required.')\n",
        "else:\n",
        "  print('Good, your word is longer than the minimum length.')"
      ],
      "metadata": {
        "colab": {
          "base_uri": "https://localhost:8080/"
        },
        "id": "pPJC-ATCAD1N",
        "outputId": "b8b19a3a-5305-4c29-d698-c0c3bfa9c757"
      },
      "execution_count": 3,
      "outputs": [
        {
          "output_type": "stream",
          "name": "stdout",
          "text": [
            "enter a word:    celsius\n",
            "enter the minimum length of word required:    5\n",
            "Good, your word is longer than the minimum length.\n"
          ]
        }
      ]
    },
    {
      "cell_type": "code",
      "source": [
        "sentence = \"The quick brown fox jumps over the lazy dog.\"\n",
        "length = 4\n",
        "print([word for word in sentence.split() if len(word) > length])"
      ],
      "metadata": {
        "colab": {
          "base_uri": "https://localhost:8080/"
        },
        "id": "MiwvK0AyDCXm",
        "outputId": "f4be2966-e77a-4f48-f440-a56d3a1c51e1"
      },
      "execution_count": 4,
      "outputs": [
        {
          "output_type": "stream",
          "name": "stdout",
          "text": [
            "['quick', 'brown', 'jumps']\n"
          ]
        }
      ]
    },
    {
      "cell_type": "markdown",
      "source": [
        "### 2. Write a Python program for removing i-th character from a string?"
      ],
      "metadata": {
        "id": "IUHOkBuK_03w"
      }
    },
    {
      "cell_type": "code",
      "source": [
        "string= input('enter a string:  ')\n",
        "index= int(input('enter the index of the character you want to remove:  '))\n",
        "new_string= string.replace(string[2], '', 1) # replace(position index of the character, replace with, how many instances of the character you want to replace)\n",
        "new_string"
      ],
      "metadata": {
        "colab": {
          "base_uri": "https://localhost:8080/",
          "height": 70
        },
        "id": "wEozosLXDmnR",
        "outputId": "d3e16f25-c728-4742-c617-2d67808d9726"
      },
      "execution_count": 10,
      "outputs": [
        {
          "name": "stdout",
          "output_type": "stream",
          "text": [
            "enter a string:  abbcccdddd\n",
            "enter the index of the character you want to remove:  2\n"
          ]
        },
        {
          "output_type": "execute_result",
          "data": {
            "text/plain": [
              "'abcccdddd'"
            ],
            "application/vnd.google.colaboratory.intrinsic+json": {
              "type": "string"
            }
          },
          "metadata": {},
          "execution_count": 10
        }
      ]
    },
    {
      "cell_type": "markdown",
      "source": [
        "### 3. Write a Python program to split and join a string?"
      ],
      "metadata": {
        "id": "mxfogROY_3PK"
      }
    },
    {
      "cell_type": "code",
      "source": [
        "s = 'The quick brown fox jumps over the lazy dog'\n",
        "# print the string after split method\n",
        "print(s.split(\" \"))\n",
        "# print the string after join method\n",
        "print(\"-\".join(s.split()))\n"
      ],
      "metadata": {
        "colab": {
          "base_uri": "https://localhost:8080/"
        },
        "id": "4eUzFBlekuW2",
        "outputId": "88def925-6493-4e33-ddb4-36903e27035d"
      },
      "execution_count": 11,
      "outputs": [
        {
          "output_type": "stream",
          "name": "stdout",
          "text": [
            "['The', 'quick', 'brown', 'fox', 'jumps', 'over', 'the', 'lazy', 'dog']\n",
            "The-quick-brown-fox-jumps-over-the-lazy-dog\n"
          ]
        }
      ]
    },
    {
      "cell_type": "markdown",
      "source": [
        "### 4. Write a Python to check if a given string is binary string or not?"
      ],
      "metadata": {
        "id": "EpWmwiUi_5jw"
      }
    },
    {
      "cell_type": "code",
      "source": [
        "def check(string):\n",
        "  p= set(string)\n",
        "  s= {'0','1'}\n",
        "  if s==p or p=={'0'} or p=={'1'}:\n",
        "    print('yes the string is binary')\n",
        "  else:\n",
        "    print('no the string is not binary')\n",
        "\n",
        "# driver code\n",
        "if __name__ == \"__main__\":\n",
        " \n",
        "    string = \"101010000111\"\n",
        " \n",
        "    # function calling\n",
        "    check(string)\n"
      ],
      "metadata": {
        "colab": {
          "base_uri": "https://localhost:8080/"
        },
        "id": "_X__EjFvlC7h",
        "outputId": "0177c82c-de76-4180-a0b6-1c9cc11ef199"
      },
      "execution_count": 12,
      "outputs": [
        {
          "output_type": "stream",
          "name": "stdout",
          "text": [
            "yes the string is binary\n"
          ]
        }
      ]
    },
    {
      "cell_type": "markdown",
      "source": [
        "### 5. Write a Python program to find uncommon words from two Strings?"
      ],
      "metadata": {
        "id": "ZbnjUI6k_7xn"
      }
    },
    {
      "cell_type": "code",
      "source": [
        "def UncommonWords(A, B):\n",
        "    A=A.split()\n",
        "    B=B.split()\n",
        "    x=[]\n",
        "    for i in A:\n",
        "        if i not in B:\n",
        "            x.append(i)\n",
        "    for i in B:\n",
        "        if i not in A:\n",
        "            x.append(i)\n",
        "    x=list(set(x))\n",
        "    return x\n",
        "             \n",
        "\n",
        "A = \"The quick brown fox jumps over the lazy dog\"\n",
        "B = \"The day is really beautiful today\"\n",
        "\n",
        "print(UncommonWords(A, B))"
      ],
      "metadata": {
        "colab": {
          "base_uri": "https://localhost:8080/"
        },
        "id": "soER78Wrm2hC",
        "outputId": "22f40a79-7c11-416b-c5b7-e5480b96443d"
      },
      "execution_count": 13,
      "outputs": [
        {
          "output_type": "stream",
          "name": "stdout",
          "text": [
            "['beautiful', 'brown', 'is', 'really', 'quick', 'over', 'day', 'today', 'fox', 'jumps', 'the', 'lazy', 'dog']\n"
          ]
        }
      ]
    },
    {
      "cell_type": "markdown",
      "source": [
        "### 6. Write a Python to find all duplicate characters in string?"
      ],
      "metadata": {
        "id": "DI_4S20G_90v"
      }
    },
    {
      "cell_type": "code",
      "source": [
        "def duplicate_characters(string):\n",
        "\t# Create an empty dictionary\n",
        "\tchars = {}\n",
        "\n",
        "\t# Iterate through each character in the string\n",
        "\tfor char in string:\n",
        "\t\t# If the character is not in the dictionary, add it\n",
        "\t\tif char not in chars:\n",
        "\t\t\tchars[char] = 1\n",
        "\t\telse:\n",
        "\t\t\t# If the character is already in the dictionary, increment the count\n",
        "\t\t\tchars[char] += 1\n",
        "\n",
        "\t# Create a list to store the duplicate characters\n",
        "\tduplicates = []\n",
        "\n",
        "\t# Iterate through the dictionary to find characters with count greater than 1\n",
        "\tfor char, count in chars.items():\n",
        "\t\tif count > 1:\n",
        "\t\t\tduplicates.append(char)\n",
        "\n",
        "\treturn duplicates\n",
        "\n",
        "# Test cases\n",
        "print(duplicate_characters(\"different\"))\n"
      ],
      "metadata": {
        "colab": {
          "base_uri": "https://localhost:8080/"
        },
        "id": "2_jSqzHnna2L",
        "outputId": "786ed58d-271c-4db0-fef0-fc6a327dd773"
      },
      "execution_count": 14,
      "outputs": [
        {
          "output_type": "stream",
          "name": "stdout",
          "text": [
            "['f', 'e']\n"
          ]
        }
      ]
    },
    {
      "cell_type": "markdown",
      "source": [
        "### 7. Write a Python Program to check if a string contains any special character?"
      ],
      "metadata": {
        "id": "E3YTBd3uAAA6"
      }
    },
    {
      "cell_type": "code",
      "source": [
        "n=\"dollars$\"\n",
        "n.split()\n",
        "c=0\n",
        "s='[@_!#$%^&*()<>?/\\|}{~:]' # special character set\n",
        "for i in range(len(n)):\n",
        "    # checking if any special character is present in given string or not\n",
        "    if n[i] in s:\n",
        "      c+=1   # if special character found then add 1 to the c\n",
        " \n",
        "# if c value is greater than 0 then print no\n",
        "# means special character is found in string     \n",
        "if c:\n",
        "    print(\"string contains special characters\")\n",
        "else:\n",
        "    print(\"string does not have special characters\")"
      ],
      "metadata": {
        "colab": {
          "base_uri": "https://localhost:8080/"
        },
        "id": "xM2ZvoKwpOk0",
        "outputId": "798b62e5-677b-4291-b667-f2c2b818a796"
      },
      "execution_count": 15,
      "outputs": [
        {
          "output_type": "stream",
          "name": "stdout",
          "text": [
            "string contains special characters\n"
          ]
        }
      ]
    },
    {
      "cell_type": "code",
      "source": [],
      "metadata": {
        "id": "_adLmItjpiFX"
      },
      "execution_count": null,
      "outputs": []
    }
  ]
}