{
  "nbformat": 4,
  "nbformat_minor": 0,
  "metadata": {
    "colab": {
      "provenance": []
    },
    "kernelspec": {
      "name": "python3",
      "display_name": "Python 3"
    },
    "language_info": {
      "name": "python"
    }
  },
  "cells": [
    {
      "cell_type": "markdown",
      "source": [
        "### 1. Write a Python program to Extract Unique values dictionary values?"
      ],
      "metadata": {
        "id": "zxtEmuTCqCpU"
      }
    },
    {
      "cell_type": "code",
      "source": [
        "test_dict = {'gfg': [5, 6, 7, 8],\n",
        "             'is': [10, 11, 7, 5],\n",
        "             'best': [6, 12, 10, 8],\n",
        "             'for': [1, 2, 5]}\n",
        " \n",
        "# Extract Unique values dictionary values\n",
        "# Using set comprehension + values() + sorted()\n",
        "res = list(sorted({ele for val in test_dict.values() for ele in val}))\n",
        " \n",
        "# printing result\n",
        "print(\"The unique values list is : \" + str(res))"
      ],
      "metadata": {
        "colab": {
          "base_uri": "https://localhost:8080/"
        },
        "id": "uNy0Hl7gqURB",
        "outputId": "72ac091b-2963-4726-f409-b61d258a0fa7"
      },
      "execution_count": 1,
      "outputs": [
        {
          "output_type": "stream",
          "name": "stdout",
          "text": [
            "The unique values list is : [1, 2, 5, 6, 7, 8, 10, 11, 12]\n"
          ]
        }
      ]
    },
    {
      "cell_type": "markdown",
      "source": [
        "### 2. Write a Python program to find the sum of all items in a dictionary?"
      ],
      "metadata": {
        "id": "rEYrk4WoqGXP"
      }
    },
    {
      "cell_type": "code",
      "source": [
        "def returnSum(myDict):\n",
        " \n",
        "    list = []\n",
        "    for i in myDict:\n",
        "        list.append(myDict[i])\n",
        "    final = sum(list)\n",
        " \n",
        "    return final\n",
        " \n",
        " \n",
        "# Driver Function\n",
        "dict = {'a': 100, 'b': 200, 'c': 300}\n",
        "print(\"Sum :\", returnSum(dict))"
      ],
      "metadata": {
        "colab": {
          "base_uri": "https://localhost:8080/"
        },
        "id": "gAK3_zbyrV1h",
        "outputId": "e42f3263-b1c7-4582-9585-076f798b2639"
      },
      "execution_count": 2,
      "outputs": [
        {
          "output_type": "stream",
          "name": "stdout",
          "text": [
            "Sum : 600\n"
          ]
        }
      ]
    },
    {
      "cell_type": "markdown",
      "source": [
        "### 3. Write a Python program to Merging two Dictionaries?"
      ],
      "metadata": {
        "id": "saGWypJNqIhj"
      }
    },
    {
      "cell_type": "code",
      "source": [
        "def Merge(dict1, dict2):\n",
        "    res = {**dict1, **dict2}\n",
        "    return res\n",
        "     \n",
        "# Driver code\n",
        "dict1 = {'a': 10, 'b': 8}\n",
        "dict2 = {'d': 6, 'c': 4}\n",
        "dict3 = Merge(dict1, dict2)\n",
        "print(dict3)"
      ],
      "metadata": {
        "colab": {
          "base_uri": "https://localhost:8080/"
        },
        "id": "tjJ_GXpFrYcq",
        "outputId": "051ce36b-4580-4599-9901-9483b46a0d37"
      },
      "execution_count": 9,
      "outputs": [
        {
          "output_type": "stream",
          "name": "stdout",
          "text": [
            "{'a': 10, 'b': 8, 'd': 6, 'c': 4}\n"
          ]
        }
      ]
    },
    {
      "cell_type": "code",
      "source": [
        "# Python code to merge dict using update() method\n",
        "def Merge(dict1, dict2):\n",
        "\treturn(dict2.update(dict1))\n",
        "\n",
        "\n",
        "# Driver code\n",
        "dict1 = {'a': 10, 'b': 8}\n",
        "dict2 = {'d': 6, 'c': 4}\n",
        "\n",
        "# This returns None\n",
        "print(Merge(dict1, dict2))\n",
        "\n",
        "# changes made in dict2\n",
        "print(dict2)\n"
      ],
      "metadata": {
        "colab": {
          "base_uri": "https://localhost:8080/"
        },
        "id": "JZYawkzAsPkh",
        "outputId": "cf6f33a5-5194-4da2-e215-8548d7e73fc6"
      },
      "execution_count": 8,
      "outputs": [
        {
          "output_type": "stream",
          "name": "stdout",
          "text": [
            "None\n",
            "{'d': 6, 'c': 4, 'a': 10, 'b': 8}\n"
          ]
        }
      ]
    },
    {
      "cell_type": "markdown",
      "source": [
        "### 4. Write a Python program to convert key-values list to flat dictionary?"
      ],
      "metadata": {
        "id": "DVALqjf2qKzw"
      }
    },
    {
      "cell_type": "code",
      "source": [
        "test_dict = {'month' : [1, 2, 3],\n",
        "\t\t\t'name' : ['Jan', 'Feb', 'March']}\n",
        "# Convert key-values list to flat dictionary\n",
        "x=list(test_dict.values())\n",
        "a=x[0]\n",
        "b=x[1]\n",
        "d=dict()\n",
        "for i in range(0,len(a)):\n",
        "\td[a[i]]=b[i]\n",
        "# printing result\n",
        "print(\"Flattened dictionary : \" + str(d))\n"
      ],
      "metadata": {
        "colab": {
          "base_uri": "https://localhost:8080/"
        },
        "id": "YAWNd6L_suUh",
        "outputId": "a86737c0-7d4b-4a2f-ff2d-d0a962d6bd6c"
      },
      "execution_count": 2,
      "outputs": [
        {
          "output_type": "stream",
          "name": "stdout",
          "text": [
            "Flattened dictionary : {1: 'Jan', 2: 'Feb', 3: 'March'}\n"
          ]
        }
      ]
    },
    {
      "cell_type": "code",
      "source": [
        "from itertools import product\n",
        "\n",
        "# initializing dictionary\n",
        "test_dict = {'month' : [1, 2, 3],\n",
        "\t\t\t'name' : ['Jan', 'Feb', 'March']}\n",
        "\n",
        "# printing original dictionary\n",
        "print(\"The original dictionary is : \" + str(test_dict))\n",
        "\n",
        "# Convert key-values list to flat dictionary\n",
        "# Using dict() + zip()\n",
        "res = dict(zip(test_dict['month'], test_dict['name']))\n",
        "\n",
        "# printing result\n",
        "print(\"Flattened dictionary : \" + str(res))\n"
      ],
      "metadata": {
        "colab": {
          "base_uri": "https://localhost:8080/"
        },
        "id": "BRVAcvJHuF4X",
        "outputId": "2a80cab5-37c0-4280-e9fc-bab319b2095d"
      },
      "execution_count": 3,
      "outputs": [
        {
          "output_type": "stream",
          "name": "stdout",
          "text": [
            "The original dictionary is : {'month': [1, 2, 3], 'name': ['Jan', 'Feb', 'March']}\n",
            "Flattened dictionary : {1: 'Jan', 2: 'Feb', 3: 'March'}\n"
          ]
        }
      ]
    },
    {
      "cell_type": "markdown",
      "source": [
        "### 5. Write a Python program to insertion at the beginning in OrderedDict?"
      ],
      "metadata": {
        "id": "7KiW9wc7qNJW"
      }
    },
    {
      "cell_type": "code",
      "source": [
        "from collections import OrderedDict\n",
        " \n",
        "# initialising ordered_dict\n",
        "iniordered_dict = OrderedDict([('akshat', '1'), ('nikhil', '2')])\n",
        " \n",
        "# inserting items in starting of dict\n",
        "iniordered_dict.update({'manjeet':'3'})\n",
        "iniordered_dict.move_to_end('manjeet', last = False)\n",
        " \n",
        "# print result\n",
        "print (\"Resultant Dictionary : \"+str(iniordered_dict))"
      ],
      "metadata": {
        "colab": {
          "base_uri": "https://localhost:8080/"
        },
        "id": "jbgvehjFuJM_",
        "outputId": "ea54c707-5c02-4d23-f879-c173c43d1558"
      },
      "execution_count": 4,
      "outputs": [
        {
          "output_type": "stream",
          "name": "stdout",
          "text": [
            "Resultant Dictionary : OrderedDict([('manjeet', '3'), ('akshat', '1'), ('nikhil', '2')])\n"
          ]
        }
      ]
    },
    {
      "cell_type": "markdown",
      "source": [
        "### 6. Write a Python program to check order of character in string using OrderedDict()?"
      ],
      "metadata": {
        "id": "rdpk7VMaqPdO"
      }
    },
    {
      "cell_type": "code",
      "source": [
        "# Function to check if string follows order of\n",
        "# characters defined by a pattern\n",
        "from collections import OrderedDict\n",
        "\n",
        "def checkOrder(input, pattern):\n",
        "\t\n",
        "\t# create empty OrderedDict\n",
        "\t# output will be like {'a': None,'b': None, 'c': None}\n",
        "\tdict = OrderedDict.fromkeys(input)\n",
        "\n",
        "\t# traverse generated OrderedDict parallel with\n",
        "\t# pattern string to check if order of characters\n",
        "\t# are same or not\n",
        "\tptrlen = 0\n",
        "\tfor key,value in dict.items():\n",
        "\t\tif (key == pattern[ptrlen]):\n",
        "\t\t\tptrlen = ptrlen + 1\n",
        "\t\t\n",
        "\t\t# check if we have traverse complete\n",
        "\t\t# pattern string\n",
        "\t\tif (ptrlen == (len(pattern))):\n",
        "\t\t\treturn 'true'\n",
        "\n",
        "\t# if we come out from for loop that means\n",
        "\t# order was mismatched\n",
        "\treturn 'false'\n",
        "\n",
        "# Driver program\n",
        "if __name__ == \"__main__\":\n",
        "\tinput = 'engineers rock'\n",
        "\tpattern = 'er'\n",
        "\tprint (checkOrder(input,pattern))\n"
      ],
      "metadata": {
        "colab": {
          "base_uri": "https://localhost:8080/"
        },
        "id": "kXzSvIZO0C9t",
        "outputId": "cf0a1f4d-6b0f-40ab-8929-e5ff1c191937"
      },
      "execution_count": 5,
      "outputs": [
        {
          "output_type": "stream",
          "name": "stdout",
          "text": [
            "true\n"
          ]
        }
      ]
    },
    {
      "cell_type": "markdown",
      "source": [
        "### 7. Write a Python program to sort Python Dictionaries by Key or Value?"
      ],
      "metadata": {
        "id": "qBu9DqLxqSFc"
      }
    },
    {
      "cell_type": "code",
      "source": [
        "myDict = {'ravi': 10, 'rajnish': 9,\n",
        "\t\t'sanjeev': 15, 'yash': 2, 'suraj': 32}\n",
        "\n",
        "myKeys = list(myDict.keys())\n",
        "myKeys.sort()\n",
        "sorted_dict = {i: myDict[i] for i in myKeys}\n",
        "\n",
        "print(sorted_dict)\n"
      ],
      "metadata": {
        "colab": {
          "base_uri": "https://localhost:8080/"
        },
        "id": "eLUJ6Mi00adj",
        "outputId": "c999f07e-566d-40e8-c6b3-92896cd276af"
      },
      "execution_count": 6,
      "outputs": [
        {
          "output_type": "stream",
          "name": "stdout",
          "text": [
            "{'rajnish': 9, 'ravi': 10, 'sanjeev': 15, 'suraj': 32, 'yash': 2}\n"
          ]
        }
      ]
    },
    {
      "cell_type": "code",
      "source": [
        "\n",
        "# Creates a sorted dictionary (sorted by key)\n",
        "from collections import OrderedDict\n",
        " \n",
        "dict = {'ravi': '10', 'rajnish': '9',\n",
        "        'sanjeev': '15', 'yash': '2', 'suraj': '32'}\n",
        "dict1 = OrderedDict(sorted(dict.items()))\n",
        "print(dict1)"
      ],
      "metadata": {
        "colab": {
          "base_uri": "https://localhost:8080/"
        },
        "id": "yjwYoGTd0oyV",
        "outputId": "1dee09d1-36eb-4246-a493-cdf5f1c630b7"
      },
      "execution_count": 8,
      "outputs": [
        {
          "output_type": "stream",
          "name": "stdout",
          "text": [
            "OrderedDict([('rajnish', '9'), ('ravi', '10'), ('sanjeev', '15'), ('suraj', '32'), ('yash', '2')])\n"
          ]
        }
      ]
    },
    {
      "cell_type": "code",
      "source": [
        "from collections import OrderedDict\n",
        "import numpy as np\n",
        " \n",
        "dict = {'ravi': 10, 'rajnish': 9,\n",
        "        'sanjeev': 15, 'yash': 2, 'suraj': 32}\n",
        "print(dict)\n",
        " \n",
        "keys = list(dict.keys())\n",
        "values = list(dict.values())\n",
        "sorted_value_index = np.argsort(values)\n",
        "sorted_dict = {keys[i]: values[i] for i in sorted_value_index}\n",
        " \n",
        "print(sorted_dict)"
      ],
      "metadata": {
        "colab": {
          "base_uri": "https://localhost:8080/"
        },
        "id": "kuVPvIZz1NUJ",
        "outputId": "a0309bec-b745-4125-9fa3-a4370c376652"
      },
      "execution_count": 9,
      "outputs": [
        {
          "output_type": "stream",
          "name": "stdout",
          "text": [
            "{'ravi': 10, 'rajnish': 9, 'sanjeev': 15, 'yash': 2, 'suraj': 32}\n",
            "{'yash': 2, 'rajnish': 9, 'ravi': 10, 'sanjeev': 15, 'suraj': 32}\n"
          ]
        }
      ]
    },
    {
      "cell_type": "code",
      "source": [],
      "metadata": {
        "id": "_0q_nAw41dXn"
      },
      "execution_count": null,
      "outputs": []
    }
  ]
}