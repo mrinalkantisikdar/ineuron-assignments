{
  "nbformat": 4,
  "nbformat_minor": 0,
  "metadata": {
    "colab": {
      "provenance": []
    },
    "kernelspec": {
      "name": "python3",
      "display_name": "Python 3"
    },
    "language_info": {
      "name": "python"
    }
  },
  "cells": [
    {
      "cell_type": "markdown",
      "source": [
        "### 1. Write a Python program to convert kilometers to miles?"
      ],
      "metadata": {
        "id": "eNk9WbNE7v9v"
      }
    },
    {
      "cell_type": "code",
      "source": [
        "kilometers = float(input(\"Enter value in kilometers: \"))\n",
        "\n",
        "conv_fac = 0.621371\n",
        "\n",
        "miles = kilometers * conv_fac\n",
        "print(f'{kilometers}  kilometers =  {miles} miles')"
      ],
      "metadata": {
        "colab": {
          "base_uri": "https://localhost:8080/"
        },
        "id": "XKA0SEPX8ErJ",
        "outputId": "6c7b7729-41ce-400c-fa29-db284f316516"
      },
      "execution_count": 2,
      "outputs": [
        {
          "output_type": "stream",
          "name": "stdout",
          "text": [
            "Enter value in kilometers: 5\n",
            "5.0  kilometers =  3.106855 miles\n"
          ]
        }
      ]
    },
    {
      "cell_type": "markdown",
      "source": [
        "### 2. Write a Python program to convert Celsius to Fahrenheit?"
      ],
      "metadata": {
        "id": "9hNnie4B7zYk"
      }
    },
    {
      "cell_type": "code",
      "source": [
        "celsius= float(input('enter the temperature in celsius'))\n",
        "\n",
        "fahrenheit = (celsius * 1.8) + 32\n",
        "\n",
        "print(f'{celsius} degree celsius= {fahrenheit} degree fahrenheit')"
      ],
      "metadata": {
        "colab": {
          "base_uri": "https://localhost:8080/"
        },
        "id": "NT4pOKOS9HoC",
        "outputId": "aab14a43-742a-4803-f15c-610c2bf62926"
      },
      "execution_count": 3,
      "outputs": [
        {
          "output_type": "stream",
          "name": "stdout",
          "text": [
            "enter the temperature in celsius27\n",
            "27.0 degree celsius= 80.6 degree fahrenheit\n"
          ]
        }
      ]
    },
    {
      "cell_type": "markdown",
      "source": [
        "### 3. Write a Python program to display calendar?"
      ],
      "metadata": {
        "id": "1v98C3PJ71iv"
      }
    },
    {
      "cell_type": "code",
      "source": [
        "import calendar\n",
        "\n",
        "yy = int(input(\"Enter year: \"))\n",
        "mm = int(input(\"Enter month: \"))\n",
        "\n",
        "print(calendar.month(yy, mm))"
      ],
      "metadata": {
        "colab": {
          "base_uri": "https://localhost:8080/"
        },
        "id": "Sw_PtQK89zRM",
        "outputId": "cd329fd5-881c-44b3-c97b-22796086f187"
      },
      "execution_count": 4,
      "outputs": [
        {
          "output_type": "stream",
          "name": "stdout",
          "text": [
            "Enter year: 2023\n",
            "Enter month: 2\n",
            "   February 2023\n",
            "Mo Tu We Th Fr Sa Su\n",
            "       1  2  3  4  5\n",
            " 6  7  8  9 10 11 12\n",
            "13 14 15 16 17 18 19\n",
            "20 21 22 23 24 25 26\n",
            "27 28\n",
            "\n"
          ]
        }
      ]
    },
    {
      "cell_type": "markdown",
      "source": [
        "### 4. Write a Python program to solve quadratic equation?"
      ],
      "metadata": {
        "id": "XSq-QJa17_X1"
      }
    },
    {
      "cell_type": "code",
      "source": [
        "# Solve the quadratic equation ax**2 + bx + c = 0\n",
        "\n",
        "# import complex math module\n",
        "import cmath\n",
        "\n",
        "a = 1\n",
        "b = 5\n",
        "c = 6\n",
        "\n",
        "# calculate the discriminant\n",
        "d = (b**2) - (4*a*c)\n",
        "\n",
        "# find two solutions\n",
        "sol1 = (-b-cmath.sqrt(d))/(2*a)\n",
        "sol2 = (-b+cmath.sqrt(d))/(2*a)\n",
        "\n",
        "print(f'The solution are {sol1} and {sol2}')"
      ],
      "metadata": {
        "colab": {
          "base_uri": "https://localhost:8080/"
        },
        "id": "Qo79hpt2-OBa",
        "outputId": "44f21e3b-ea38-4f3b-ad6e-a7c1c2ff02b1"
      },
      "execution_count": 5,
      "outputs": [
        {
          "output_type": "stream",
          "name": "stdout",
          "text": [
            "The solution are (-3+0j) and (-2+0j)\n"
          ]
        }
      ]
    },
    {
      "cell_type": "markdown",
      "source": [
        "### 5. Write a Python program to swap two variables without temp variable?"
      ],
      "metadata": {
        "id": "wPZYJqor8B2J"
      }
    },
    {
      "cell_type": "code",
      "source": [
        "x = 1\n",
        "y = 2\n",
        " \n",
        "# code to swap 'x' and 'y'\n",
        "x, y = y, x\n",
        " \n",
        "print(f'after swapping the value of x is {x} and the value of y is {y}')"
      ],
      "metadata": {
        "colab": {
          "base_uri": "https://localhost:8080/"
        },
        "id": "bO0jAVcV-ya1",
        "outputId": "70be17a5-5fea-41d9-f525-76ecb09844a1"
      },
      "execution_count": 6,
      "outputs": [
        {
          "output_type": "stream",
          "name": "stdout",
          "text": [
            "after swapping the value of x is 2 and the value of y is 1\n"
          ]
        }
      ]
    }
  ]
}