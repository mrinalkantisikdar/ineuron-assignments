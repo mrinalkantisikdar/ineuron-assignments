{
  "nbformat": 4,
  "nbformat_minor": 0,
  "metadata": {
    "colab": {
      "provenance": []
    },
    "kernelspec": {
      "name": "python3",
      "display_name": "Python 3"
    },
    "language_info": {
      "name": "python"
    }
  },
  "cells": [
    {
      "cell_type": "markdown",
      "source": [
        "### 1. Write a Python Program to Find the Factorial of a Number?"
      ],
      "metadata": {
        "id": "jRnVcghQPSDi"
      }
    },
    {
      "cell_type": "code",
      "source": [
        "num = int(input('enter a number: '))\n",
        "factorial= 1\n",
        "\n",
        "if num < 0:\n",
        "  print('sorry factorial not possible for negative numbers')\n",
        "elif num == 0:\n",
        "  print('factorial of zero = 1')\n",
        "else:\n",
        "  for i in range(1, num + 1):\n",
        "    factorial= factorial * i\n",
        "  print(f'the factorial of {num} = {factorial}')\n"
      ],
      "metadata": {
        "colab": {
          "base_uri": "https://localhost:8080/"
        },
        "id": "xn_tJxCJPitS",
        "outputId": "0c5567f6-e500-48c6-c48b-c83ec0ee77db"
      },
      "execution_count": 2,
      "outputs": [
        {
          "output_type": "stream",
          "name": "stdout",
          "text": [
            "enter a number: 5\n",
            "the factorial of 5 = 120\n"
          ]
        }
      ]
    },
    {
      "cell_type": "markdown",
      "source": [
        "### 2. Write a Python Program to Display the multiplication Table?"
      ],
      "metadata": {
        "id": "V5htoCKZPWhE"
      }
    },
    {
      "cell_type": "code",
      "source": [
        "num= int(input('enter number to display multiplication table of:  '))\n",
        "\n",
        "for i in range(1,11):\n",
        "  print(f'{num} x {i} = {num * i}')"
      ],
      "metadata": {
        "colab": {
          "base_uri": "https://localhost:8080/"
        },
        "id": "jKJfBGEsm1PM",
        "outputId": "876ca295-d515-4007-d529-2a9bc684be78"
      },
      "execution_count": 3,
      "outputs": [
        {
          "output_type": "stream",
          "name": "stdout",
          "text": [
            "enter number to display multiplication table of:  12\n",
            "12 x 1 = 12\n",
            "12 x 2 = 24\n",
            "12 x 3 = 36\n",
            "12 x 4 = 48\n",
            "12 x 5 = 60\n",
            "12 x 6 = 72\n",
            "12 x 7 = 84\n",
            "12 x 8 = 96\n",
            "12 x 9 = 108\n",
            "12 x 10 = 120\n"
          ]
        }
      ]
    },
    {
      "cell_type": "markdown",
      "source": [
        "### 3. Write a Python Program to Print the Fibonacci sequence?"
      ],
      "metadata": {
        "id": "HHZsiof2PYxx"
      }
    },
    {
      "cell_type": "code",
      "source": [
        "nterms= int(input('enter the number of terms required for the Fibonacci sequence: '))\n",
        "\n",
        "n1, n2= 0, 1\n",
        "count = 1\n",
        "\n",
        "if nterms < 0:\n",
        "  print('please enter positive number of terms')\n",
        "elif nterms == 1:\n",
        "  print(n1)\n",
        "else:\n",
        "  while count < nterms:\n",
        "    print(n1)\n",
        "    nth= n1 + n2\n",
        "    n1 = n2   # update n1\n",
        "    n2 = nth    # update n2\n",
        "    count += 1"
      ],
      "metadata": {
        "colab": {
          "base_uri": "https://localhost:8080/"
        },
        "id": "FOh4oF8inpl4",
        "outputId": "faf81307-c790-45b0-b861-4c3823b2da90"
      },
      "execution_count": 6,
      "outputs": [
        {
          "output_type": "stream",
          "name": "stdout",
          "text": [
            "enter the number of terms required for the Fibonacci sequence: 8\n",
            "0\n",
            "1\n",
            "1\n",
            "2\n",
            "3\n",
            "5\n",
            "8\n"
          ]
        }
      ]
    },
    {
      "cell_type": "markdown",
      "source": [
        "### 4. Write a Python Program to Check Armstrong Number?"
      ],
      "metadata": {
        "id": "VpltlveDPbbv"
      }
    },
    {
      "cell_type": "code",
      "source": [
        "num= int(input('enter a number to check if it is Armstrong: '))\n",
        "\n",
        "original_num = num # assigning input varialbe to a new variable\n",
        "digit= len(str(num)) # finding the number of digits of the number\n",
        "sum = 0     #initializing the sum\n",
        "\n",
        "while num != 0: # while loop will run till num becomes 0\n",
        "  r= num % 10   # finding the remainder after dividing by 10\n",
        "  sum = sum + (r**digit)    # raising the power of remainder by the number of digits, adding it to sum, updating sum\n",
        "  num = num // 10   #  quotient after dividing by 10 (updating num), which will again run in the while loop\n",
        "\n",
        "if original_num == sum:\n",
        "  print('the number is armstrong')\n",
        "else:\n",
        "  print('the number is not armstrong')\n"
      ],
      "metadata": {
        "colab": {
          "base_uri": "https://localhost:8080/"
        },
        "id": "xAqIrRsWqmKL",
        "outputId": "07a80f11-b346-4b63-c82d-b2f4b4f77853"
      },
      "execution_count": 11,
      "outputs": [
        {
          "output_type": "stream",
          "name": "stdout",
          "text": [
            "enter a number to check if it is Armstrong: 153\n",
            "the number is armstrong\n"
          ]
        }
      ]
    },
    {
      "cell_type": "markdown",
      "source": [
        "### 5. Write a Python Program to Find Armstrong Number in an Interval?"
      ],
      "metadata": {
        "id": "TX9uPlKXPdtT"
      }
    },
    {
      "cell_type": "code",
      "source": [
        "lower = int(input(\"Enter lower range: \"))\n",
        "upper = int(input(\"Enter upper range: \"))\n",
        "\n",
        "for num in range(lower, upper+1):\n",
        "  original_num = num # assigning input varialbe to a new variable\n",
        "  digit= len(str(num)) # finding the number of digits of the number\n",
        "  sum = 0     #initializing the sum\n",
        "\n",
        "  while num != 0: # while loop will run till num becomes 0\n",
        "    r= num % 10   # finding the remainder after dividing by 10\n",
        "    sum = sum + (r**digit)    # raising the power of remainder by the number of digits, adding it to sum, updating sum\n",
        "    num = num // 10\n",
        "  if original_num == sum:\n",
        "    print(original_num)\n"
      ],
      "metadata": {
        "colab": {
          "base_uri": "https://localhost:8080/"
        },
        "id": "r58imsAKxYSf",
        "outputId": "34f2ad59-2d56-482d-a329-5323fec02afe"
      },
      "execution_count": 14,
      "outputs": [
        {
          "output_type": "stream",
          "name": "stdout",
          "text": [
            "Enter lower range: 100\n",
            "Enter upper range: 1000\n",
            "153\n",
            "370\n",
            "371\n",
            "407\n"
          ]
        }
      ]
    },
    {
      "cell_type": "markdown",
      "source": [
        "### 6. Write a Python Program to Find the Sum of Natural Numbers?"
      ],
      "metadata": {
        "id": "1teBNjGxPgNg"
      }
    },
    {
      "cell_type": "code",
      "source": [
        "# Sum of natural numbers up to num\n",
        "num = 16\n",
        "\n",
        "if num < 0:\n",
        "   print(\"Enter a positive number\")\n",
        "else:\n",
        "   sum = 0\n",
        "   # use while loop to iterate until zero\n",
        "   while(num > 0):\n",
        "       sum += num\n",
        "       num -= 1\n",
        "   print(\"The sum is\", sum)"
      ],
      "metadata": {
        "colab": {
          "base_uri": "https://localhost:8080/"
        },
        "id": "uZQb526Gx86-",
        "outputId": "8115aa3f-0d65-468d-827f-c3b545741bff"
      },
      "execution_count": 12,
      "outputs": [
        {
          "output_type": "stream",
          "name": "stdout",
          "text": [
            "The sum is 136\n"
          ]
        }
      ]
    }
  ]
}