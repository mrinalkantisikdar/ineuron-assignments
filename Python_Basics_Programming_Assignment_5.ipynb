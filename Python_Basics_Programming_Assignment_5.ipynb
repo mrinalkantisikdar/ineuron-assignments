{
  "nbformat": 4,
  "nbformat_minor": 0,
  "metadata": {
    "colab": {
      "provenance": []
    },
    "kernelspec": {
      "name": "python3",
      "display_name": "Python 3"
    },
    "language_info": {
      "name": "python"
    }
  },
  "cells": [
    {
      "cell_type": "markdown",
      "source": [
        "### 1. Write a Python Program to Find LCM?"
      ],
      "metadata": {
        "id": "19hhFBiqzhQT"
      }
    },
    {
      "cell_type": "code",
      "source": [
        "def find_lcm(num1, num2):\n",
        "    if(num1>num2):\n",
        "        num = num1\n",
        "        den = num2\n",
        "    else:\n",
        "        num = num2\n",
        "        den = num1\n",
        "    rem = num % den\n",
        "    while(rem != 0):\n",
        "        num = den\n",
        "        den = rem\n",
        "        rem = num % den\n",
        "    gcd = den\n",
        "    lcm = int(int(num1 * num2)/int(gcd))\n",
        "    return lcm\n",
        "     \n",
        "l = [2, 7, 3, 9, 4]\n",
        " \n",
        "num1 = l[0]\n",
        "num2 = l[1]\n",
        "lcm = find_lcm(num1, num2)\n",
        " \n",
        "for i in range(2, len(l)):\n",
        "    lcm = find_lcm(lcm, l[i])\n",
        "     \n",
        "print(lcm)"
      ],
      "metadata": {
        "colab": {
          "base_uri": "https://localhost:8080/"
        },
        "id": "7Z-aYw4Mzweh",
        "outputId": "11da6870-b31d-491c-f9f4-5d5f3a0282cc"
      },
      "execution_count": 1,
      "outputs": [
        {
          "output_type": "stream",
          "name": "stdout",
          "text": [
            "252\n"
          ]
        }
      ]
    },
    {
      "cell_type": "markdown",
      "source": [
        "### 2. Write a Python Program to Find HCF?"
      ],
      "metadata": {
        "id": "tqjMtZkjznBF"
      }
    },
    {
      "cell_type": "code",
      "source": [
        "def find_gcd(x, y):\n",
        "    while(y):\n",
        "        x, y = y, x % y\n",
        " \n",
        "    return x\n",
        "     \n",
        "     \n",
        "l = [2, 4, 6, 8, 16]\n",
        " \n",
        "num1=l[0]\n",
        "num2=l[1]\n",
        "gcd=find_gcd(num1,num2)\n",
        " \n",
        "for i in range(2,len(l)):\n",
        "    gcd=find_gcd(gcd,l[i])\n",
        "     \n",
        "print(gcd)"
      ],
      "metadata": {
        "colab": {
          "base_uri": "https://localhost:8080/"
        },
        "id": "QivcYkZ_4ByB",
        "outputId": "5aba1ea2-a50f-45bb-b70b-30edc6acfc2c"
      },
      "execution_count": 3,
      "outputs": [
        {
          "output_type": "stream",
          "name": "stdout",
          "text": [
            "2\n"
          ]
        }
      ]
    },
    {
      "cell_type": "markdown",
      "source": [
        "### 3. Write a Python Program to Convert Decimal to Binary, Octal and Hexadecimal?"
      ],
      "metadata": {
        "id": "MO71aNTUzpq9"
      }
    },
    {
      "cell_type": "code",
      "source": [
        "def DecimalToBinary(num):\n",
        "     \n",
        "    if num >= 1:\n",
        "      DecimalToBinary(num // 2)   # recursive approach\n",
        "    print(num % 2, end = '')"
      ],
      "metadata": {
        "id": "2Ae6D0gy5cAL"
      },
      "execution_count": 10,
      "outputs": []
    },
    {
      "cell_type": "code",
      "source": [
        "DecimalToBinary(24)"
      ],
      "metadata": {
        "colab": {
          "base_uri": "https://localhost:8080/"
        },
        "id": "mBkAW9RS5_Fi",
        "outputId": "4262a18e-9917-48c9-e4b3-3ad0896ad5ad"
      },
      "execution_count": 11,
      "outputs": [
        {
          "output_type": "stream",
          "name": "stdout",
          "text": [
            "011000"
          ]
        }
      ]
    },
    {
      "cell_type": "code",
      "source": [
        "def decToOctal(n):\n",
        " \n",
        "    # array to store\n",
        "    # octal number\n",
        "    octalNum = [0] * 100\n",
        " \n",
        "    # counter for octal\n",
        "    # number array\n",
        "    i = 0\n",
        "    while (n != 0):\n",
        " \n",
        "        # storing remainder\n",
        "        # in octal array\n",
        "        octalNum[i] = n % 8\n",
        "        n = int(n / 8)\n",
        "        i += 1\n",
        " \n",
        "    # printing octal number\n",
        "    # array in reverse order\n",
        "    for j in range(i - 1, -1, -1):\n",
        "        print(octalNum[j], end=\"\")"
      ],
      "metadata": {
        "id": "Jqpjj3fS6FPH"
      },
      "execution_count": 12,
      "outputs": []
    },
    {
      "cell_type": "code",
      "source": [
        "decToOctal(33)"
      ],
      "metadata": {
        "colab": {
          "base_uri": "https://localhost:8080/"
        },
        "id": "pMcKcZDq6wrI",
        "outputId": "89993e41-53c4-4478-e716-713fb039dbd1"
      },
      "execution_count": 13,
      "outputs": [
        {
          "output_type": "stream",
          "name": "stdout",
          "text": [
            "41"
          ]
        }
      ]
    },
    {
      "cell_type": "code",
      "source": [
        "conversion_table = {0: '0', 1: '1', 2: '2', 3: '3', 4: '4',\n",
        "                    5: '5', 6: '6', 7: '7',\n",
        "                    8: '8', 9: '9', 10: 'A', 11: 'B', 12: 'C',\n",
        "                    13: 'D', 14: 'E', 15: 'F'}\n",
        " \n",
        "def decimalToHexadecimal(decimal):\n",
        "    hexadecimal = ''\n",
        "    while(decimal > 0):\n",
        "        remainder = decimal % 16\n",
        "        hexadecimal = conversion_table[remainder] + hexadecimal\n",
        "        decimal = decimal // 16\n",
        " \n",
        "    return hexadecimal"
      ],
      "metadata": {
        "id": "sknOkpFI60dK"
      },
      "execution_count": 14,
      "outputs": []
    },
    {
      "cell_type": "code",
      "source": [
        "decimalToHexadecimal(69)"
      ],
      "metadata": {
        "colab": {
          "base_uri": "https://localhost:8080/",
          "height": 36
        },
        "id": "ta0afNdm7ELG",
        "outputId": "be8b099e-f60d-4775-a772-ab5d06237273"
      },
      "execution_count": 15,
      "outputs": [
        {
          "output_type": "execute_result",
          "data": {
            "text/plain": [
              "'45'"
            ],
            "application/vnd.google.colaboratory.intrinsic+json": {
              "type": "string"
            }
          },
          "metadata": {},
          "execution_count": 15
        }
      ]
    },
    {
      "cell_type": "code",
      "source": [
        "conversion_table = {0: '0', 1: '1', 2: '2', 3: '3',\n",
        "                    4: '4', 5: '5', 6: '6', 7: '7',\n",
        "                    8: '8', 9: '9', 10: 'A', 11: 'B',\n",
        "                    12: 'C', 13: 'D', 14: 'E', 15: 'F'}\n",
        "\n",
        "def decimalToHexadecimal(decimal):    # recursive approach\n",
        "    if(decimal <= 0):\n",
        "        return ''\n",
        "    remainder = decimal % 16\n",
        "    return decimalToHexadecimal(decimal//16) + conversion_table[remainder]\n",
        " \n",
        " \n",
        "decimal_number = 69\n",
        "print(\"The hexadecimal form of\", decimal_number,\n",
        "      \"is\", decimalToHexadecimal(decimal_number))"
      ],
      "metadata": {
        "id": "mbtS95ck7OX-"
      },
      "execution_count": null,
      "outputs": []
    },
    {
      "cell_type": "code",
      "source": [
        "decimalToHexadecimal(69)"
      ],
      "metadata": {
        "colab": {
          "base_uri": "https://localhost:8080/",
          "height": 36
        },
        "id": "AiloGsU47QeQ",
        "outputId": "f9395c5f-4bfc-4562-f281-4e66caa1961f"
      },
      "execution_count": 16,
      "outputs": [
        {
          "output_type": "execute_result",
          "data": {
            "text/plain": [
              "'45'"
            ],
            "application/vnd.google.colaboratory.intrinsic+json": {
              "type": "string"
            }
          },
          "metadata": {},
          "execution_count": 16
        }
      ]
    },
    {
      "cell_type": "markdown",
      "source": [
        "### 4. Write a Python Program To Find ASCII value of a character?"
      ],
      "metadata": {
        "id": "HvHmObsQzr15"
      }
    },
    {
      "cell_type": "code",
      "source": [
        "c = 'g'\n",
        "# print the ASCII value of assigned character in c\n",
        "print(\"The ASCII value of '\" + c + \"' is\", ord(c))"
      ],
      "metadata": {
        "colab": {
          "base_uri": "https://localhost:8080/"
        },
        "id": "cbEWykxM7aOn",
        "outputId": "8832603c-6a61-4399-e7d3-1449f370f17b"
      },
      "execution_count": 17,
      "outputs": [
        {
          "output_type": "stream",
          "name": "stdout",
          "text": [
            "The ASCII value of 'g' is 103\n"
          ]
        }
      ]
    },
    {
      "cell_type": "code",
      "source": [
        "print(\"Enter a String: \", end=\"\")\n",
        "text = input()\n",
        "textlength = len(text)\n",
        "for char in text:\n",
        "    ascii = ord(char)\n",
        "    print(char, \"\\t\", ascii)"
      ],
      "metadata": {
        "colab": {
          "base_uri": "https://localhost:8080/"
        },
        "id": "x_1jMiPi7ryt",
        "outputId": "1f69e300-ab4a-4d9b-90ac-01a6e8e7d2be"
      },
      "execution_count": 18,
      "outputs": [
        {
          "output_type": "stream",
          "name": "stdout",
          "text": [
            "Enter a String: mrinal\n",
            "m \t 109\n",
            "r \t 114\n",
            "i \t 105\n",
            "n \t 110\n",
            "a \t 97\n",
            "l \t 108\n"
          ]
        }
      ]
    },
    {
      "cell_type": "markdown",
      "source": [
        "### 5. Write a Python Program to Make a Simple Calculator with 4 basic mathematical operations?"
      ],
      "metadata": {
        "id": "p0m_Y_WmzuNL"
      }
    },
    {
      "cell_type": "code",
      "source": [
        "# This function adds two numbers\n",
        "def add(x, y):\n",
        "    return x + y\n",
        "\n",
        "# This function subtracts two numbers\n",
        "def subtract(x, y):\n",
        "    return x - y\n",
        "\n",
        "# This function multiplies two numbers\n",
        "def multiply(x, y):\n",
        "    return x * y\n",
        "\n",
        "# This function divides two numbers\n",
        "def divide(x, y):\n",
        "    return x / y\n",
        "\n",
        "\n",
        "print(\"Select operation.\")\n",
        "print(\"1.Add\")\n",
        "print(\"2.Subtract\")\n",
        "print(\"3.Multiply\")\n",
        "print(\"4.Divide\")\n",
        "\n",
        "while True:\n",
        "    # take input from the user\n",
        "    choice = input(\"Enter choice(1/2/3/4): \")\n",
        "\n",
        "    # check if choice is one of the four options\n",
        "    if choice in ('1', '2', '3', '4'):\n",
        "        try:\n",
        "            num1 = float(input(\"Enter first number: \"))\n",
        "            num2 = float(input(\"Enter second number: \"))\n",
        "        except ValueError:\n",
        "            print(\"Invalid input. Please enter a number.\")\n",
        "            continue\n",
        "\n",
        "        if choice == '1':\n",
        "            print(num1, \"+\", num2, \"=\", add(num1, num2))\n",
        "\n",
        "        elif choice == '2':\n",
        "            print(num1, \"-\", num2, \"=\", subtract(num1, num2))\n",
        "\n",
        "        elif choice == '3':\n",
        "            print(num1, \"*\", num2, \"=\", multiply(num1, num2))\n",
        "\n",
        "        elif choice == '4':\n",
        "            print(num1, \"/\", num2, \"=\", divide(num1, num2))\n",
        "        \n",
        "        # check if user wants another calculation\n",
        "        # break the while loop if answer is no\n",
        "        next_calculation = input(\"Let's do next calculation? (yes/no): \")\n",
        "        if next_calculation == \"no\":\n",
        "          break\n",
        "    else:\n",
        "        print(\"Invalid Input\")"
      ],
      "metadata": {
        "colab": {
          "base_uri": "https://localhost:8080/"
        },
        "id": "8fmTeiUc7078",
        "outputId": "deda46bc-373c-454b-b65a-ea26e7392295"
      },
      "execution_count": 19,
      "outputs": [
        {
          "name": "stdout",
          "output_type": "stream",
          "text": [
            "Select operation.\n",
            "1.Add\n",
            "2.Subtract\n",
            "3.Multiply\n",
            "4.Divide\n",
            "Enter choice(1/2/3/4): 1\n",
            "Enter first number: 2\n",
            "Enter second number: 3\n",
            "2.0 + 3.0 = 5.0\n",
            "Let's do next calculation? (yes/no): no\n"
          ]
        }
      ]
    }
  ]
}