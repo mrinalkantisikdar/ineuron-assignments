{
  "nbformat": 4,
  "nbformat_minor": 0,
  "metadata": {
    "colab": {
      "provenance": []
    },
    "kernelspec": {
      "name": "python3",
      "display_name": "Python 3"
    },
    "language_info": {
      "name": "python"
    }
  },
  "cells": [
    {
      "cell_type": "markdown",
      "source": [
        "### 1. Write a Python Program to Display Fibonacci Sequence Using Recursion?"
      ],
      "metadata": {
        "id": "ShAgeRIM9KaI"
      }
    },
    {
      "cell_type": "code",
      "source": [
        "def Fibonacci(n):\n",
        "   \n",
        "    # Check if input is 0 then it will\n",
        "    # print incorrect input\n",
        "    if n < 0:\n",
        "        print(\"Incorrect input\")\n",
        " \n",
        "    # Check if n is 0\n",
        "    # then it will return 0\n",
        "    elif n == 0:\n",
        "        return 0\n",
        " \n",
        "    # Check if n is 1,2\n",
        "    # it will return 1\n",
        "    elif n == 1 or n == 2:\n",
        "        return 1\n",
        " \n",
        "    else:\n",
        "        return Fibonacci(n-1) + Fibonacci(n-2)\n",
        " \n",
        "# Driver Program\n",
        "print(Fibonacci(9))"
      ],
      "metadata": {
        "colab": {
          "base_uri": "https://localhost:8080/"
        },
        "id": "8tUIuY8q9YX7",
        "outputId": "6e653304-1af1-4965-a8db-10a1928e2215"
      },
      "execution_count": 1,
      "outputs": [
        {
          "output_type": "stream",
          "name": "stdout",
          "text": [
            "34\n"
          ]
        }
      ]
    },
    {
      "cell_type": "markdown",
      "source": [
        "### 2. Write a Python Program to Find Factorial of Number Using Recursion?"
      ],
      "metadata": {
        "id": "jTezD23V9OT6"
      }
    },
    {
      "cell_type": "code",
      "source": [
        "def factorial(n):\n",
        "     \n",
        "    # Checking the number\n",
        "    # is 1 or 0 then\n",
        "    # return 1\n",
        "    # other wise return\n",
        "    # factorial\n",
        "    if (n==1 or n==0):\n",
        "         \n",
        "        return 1\n",
        "     \n",
        "    else:\n",
        "         \n",
        "        return (n * factorial(n - 1))\n",
        " \n",
        "# Driver Code\n",
        "num = 5;\n",
        "print(\"number : \",num)\n",
        "print(\"Factorial : \",factorial(num))"
      ],
      "metadata": {
        "colab": {
          "base_uri": "https://localhost:8080/"
        },
        "id": "VL0kw9Qb9odV",
        "outputId": "531d447e-fa00-4aff-a6bc-659106da0e46"
      },
      "execution_count": 2,
      "outputs": [
        {
          "output_type": "stream",
          "name": "stdout",
          "text": [
            "number :  5\n",
            "Factorial :  120\n"
          ]
        }
      ]
    },
    {
      "cell_type": "markdown",
      "source": [
        "### 3. Write a Python Program to calculate your Body Mass Index?"
      ],
      "metadata": {
        "id": "JZY-LRhU9Qk0"
      }
    },
    {
      "cell_type": "code",
      "source": [
        "def BMI(height, weight):\n",
        "    bmi = weight/(height**2)\n",
        "    return bmi\n",
        "  \n",
        "# Driver code\n",
        "height = 1.79832\n",
        "weight = 70\n",
        "  \n",
        "# calling the BMI function\n",
        "bmi = BMI(height, weight)\n",
        "print(\"The BMI is\", format(bmi), \"so \", end='')\n",
        "  \n",
        "# Conditions to find out BMI category\n",
        "if (bmi < 18.5):\n",
        "    print(\"underweight\")\n",
        "  \n",
        "elif ( bmi >= 18.5 and bmi < 24.9):\n",
        "    print(\"Healthy\")\n",
        "  \n",
        "elif ( bmi >= 24.9 and bmi < 30):\n",
        "    print(\"overweight\")\n",
        "  \n",
        "elif ( bmi >=30):\n",
        "    print(\"Suffering from Obesity\")"
      ],
      "metadata": {
        "colab": {
          "base_uri": "https://localhost:8080/"
        },
        "id": "W5E7c2y694v4",
        "outputId": "3cdf2527-f1f4-475e-d8a1-8a8ec349d89c"
      },
      "execution_count": 3,
      "outputs": [
        {
          "output_type": "stream",
          "name": "stdout",
          "text": [
            "The BMI is 21.64532402096181 so Healthy\n"
          ]
        }
      ]
    },
    {
      "cell_type": "markdown",
      "source": [
        "### 4. Write a Python Program to calculate the natural logarithm of any number?"
      ],
      "metadata": {
        "id": "lv6zn1SD9Sw3"
      }
    },
    {
      "cell_type": "code",
      "source": [
        "import math\n",
        "\n",
        "number = int(input(\"Enter the number: \"))\n",
        "\n",
        "ans = math.log(number)\n",
        "\n",
        "print(\"The value is:\",ans)"
      ],
      "metadata": {
        "colab": {
          "base_uri": "https://localhost:8080/"
        },
        "id": "LdqJ-UqV-KDI",
        "outputId": "5630f547-7fab-4f8a-f1fa-2993c0ac2643"
      },
      "execution_count": 4,
      "outputs": [
        {
          "output_type": "stream",
          "name": "stdout",
          "text": [
            "Enter the number: 100\n",
            "The value is: 4.605170185988092\n"
          ]
        }
      ]
    },
    {
      "cell_type": "markdown",
      "source": [
        "### 5. Write a Python Program for cube sum of first n natural numbers?"
      ],
      "metadata": {
        "id": "hNFIGDTc9VGu"
      }
    },
    {
      "cell_type": "code",
      "source": [
        "def sumOfSeries(n):\n",
        "    sum = 0\n",
        "    for i in range(1, n+1):\n",
        "        sum +=pow(i,3)\n",
        "         \n",
        "    return sum"
      ],
      "metadata": {
        "id": "DJhC4dQ5-guF"
      },
      "execution_count": 5,
      "outputs": []
    },
    {
      "cell_type": "code",
      "source": [
        "sumOfSeries(5)"
      ],
      "metadata": {
        "colab": {
          "base_uri": "https://localhost:8080/"
        },
        "id": "lWxlM6CO-pnp",
        "outputId": "6ff5ef24-e2be-4d5c-ec27-f7870d75ba52"
      },
      "execution_count": 7,
      "outputs": [
        {
          "output_type": "execute_result",
          "data": {
            "text/plain": [
              "225"
            ]
          },
          "metadata": {},
          "execution_count": 7
        }
      ]
    }
  ]
}