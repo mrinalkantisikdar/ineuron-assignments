{
  "nbformat": 4,
  "nbformat_minor": 0,
  "metadata": {
    "colab": {
      "provenance": []
    },
    "kernelspec": {
      "name": "python3",
      "display_name": "Python 3"
    },
    "language_info": {
      "name": "python"
    }
  },
  "cells": [
    {
      "cell_type": "markdown",
      "source": [
        "### 1. Write a Python Program to find sum of array?"
      ],
      "metadata": {
        "id": "cGj1Z7Px_Fv2"
      }
    },
    {
      "cell_type": "code",
      "source": [
        "def sum(arr):\n",
        "  sum= 0\n",
        "  for i in arr:\n",
        "    sum= sum+i\n",
        "  return sum\n",
        "\n",
        "arr = [12, 3, 4, 15]\n",
        "\n",
        "sum(arr)"
      ],
      "metadata": {
        "colab": {
          "base_uri": "https://localhost:8080/"
        },
        "id": "YqIX7D71_TKm",
        "outputId": "4aa00c19-0833-4ecf-db76-bb1f6580b770"
      },
      "execution_count": 1,
      "outputs": [
        {
          "output_type": "execute_result",
          "data": {
            "text/plain": [
              "34"
            ]
          },
          "metadata": {},
          "execution_count": 1
        }
      ]
    },
    {
      "cell_type": "markdown",
      "source": [
        "### 2. Write a Python Program to find largest element in an array?"
      ],
      "metadata": {
        "id": "YCaH6uf9_Js4"
      }
    },
    {
      "cell_type": "code",
      "source": [
        "def find_max(arr):\n",
        "  max= arr[0]\n",
        "  for i in arr:\n",
        "    if max < i:\n",
        "      max = i\n",
        "  return max\n",
        "\n",
        "arr = [12, 3, 4, 15]\n",
        "\n",
        "find_max(arr)"
      ],
      "metadata": {
        "colab": {
          "base_uri": "https://localhost:8080/"
        },
        "id": "G0sERAhRLxdS",
        "outputId": "4bc40bec-a4fd-4a82-d52c-b4f3bcba8cde"
      },
      "execution_count": 9,
      "outputs": [
        {
          "output_type": "execute_result",
          "data": {
            "text/plain": [
              "15"
            ]
          },
          "metadata": {},
          "execution_count": 9
        }
      ]
    },
    {
      "cell_type": "markdown",
      "source": [
        "### 3. Write a Python Program for array rotation?"
      ],
      "metadata": {
        "id": "05AwNvBD_LzL"
      }
    },
    {
      "cell_type": "code",
      "source": [
        "#Python program to left-rotate the given array\n",
        "\n",
        "#Function reverse the given array by swapping first and last numbers.\n",
        "def reverse(start,end,arr):\n",
        "\n",
        "\t#No of iterations needed for reversing the list\n",
        "\tno_of_reverse=end-start+1\n",
        "\n",
        "\t#By incrementing count value swapping of first and last elements is done.\n",
        "\tcount=0\n",
        "\twhile((no_of_reverse)//2!=count):\n",
        "\t\tarr[start+count],arr[end-count]=arr[end-count],arr[start+count]\n",
        "\t\tcount+=1\n",
        "\treturn arr\n",
        "\n",
        "#Function takes array, length of array and no of rotations as input\n",
        "def left_rotate_array(arr,size,d):\n",
        "\n",
        "\t#Reverse the Entire List\n",
        "\tstart=0\n",
        "\tend=size-1\n",
        "\tarr=reverse(start,end,arr)\n",
        "\t\n",
        "\t#Divide array into twosub-array based on no of rotations.\n",
        "\t#Divide First sub-array\n",
        "\t#Reverse the First sub-array\n",
        "\tstart=0\n",
        "\tend=size-d-1\n",
        "\tarr=reverse(start,end,arr)\n",
        "\t\n",
        "\t#Divide Second sub-array\n",
        "\t#Reverse the Second sub-array\n",
        "\tstart=size-d\n",
        "\tend=size-1\n",
        "\tarr=reverse(start,end,arr)\n",
        "\treturn arr\n",
        "\t\n",
        "arr=[1,2,3,4,5,6,7,8]\n",
        "size=8\n",
        "d=1\n",
        "print('Original array:',arr)\n",
        "\n",
        "#Finding all the symmetric rotation number\n",
        "if(d<=size):\n",
        "\tprint('Rotated array: ',left_rotate_array(arr,size,d))\n",
        "else:\n",
        "\td=d%size\n",
        "\tprint('Rotated array: ',left_rotate_array(arr,size,d))\n",
        "\n",
        "#This code contributed by SR.Dhanush\n"
      ],
      "metadata": {
        "colab": {
          "base_uri": "https://localhost:8080/"
        },
        "id": "58gccZGoNT7v",
        "outputId": "4e176f25-8b95-4314-92ec-8673def75f7f"
      },
      "execution_count": 11,
      "outputs": [
        {
          "output_type": "stream",
          "name": "stdout",
          "text": [
            "Original array: [1, 2, 3, 4, 5, 6, 7, 8]\n",
            "Rotated array:  [2, 3, 4, 5, 6, 7, 8, 1]\n"
          ]
        }
      ]
    },
    {
      "cell_type": "markdown",
      "source": [
        "### 4. Write a Python Program to Split the array and add the first part to the end?"
      ],
      "metadata": {
        "id": "FkvPA_jQ_OVz"
      }
    },
    {
      "cell_type": "code",
      "source": [
        "def splitArr(arr, n, k):\n",
        "    for i in range(0, k):\n",
        "        x = arr[0]\n",
        "        for j in range(0, n-1):\n",
        "            arr[j] = arr[j + 1]\n",
        "         \n",
        "        arr[n-1] = x\n",
        "         \n",
        "arr = [12, 10, 5, 6, 52, 36]\n",
        "n = len(arr)\n",
        "position = 2\n",
        " \n",
        "splitArr(arr, n, position)\n",
        " \n",
        "for i in range(0, n):\n",
        "    print(arr[i], end = ' ')"
      ],
      "metadata": {
        "colab": {
          "base_uri": "https://localhost:8080/"
        },
        "id": "3iisRS-APbXh",
        "outputId": "0e975e5f-201b-40ae-9591-b3e309174d88"
      },
      "execution_count": 12,
      "outputs": [
        {
          "output_type": "stream",
          "name": "stdout",
          "text": [
            "5 6 52 36 12 10 "
          ]
        }
      ]
    },
    {
      "cell_type": "markdown",
      "source": [
        "### 5. Write a Python Program to check if given array is Monotonic?"
      ],
      "metadata": {
        "id": "ekEtE39R_Q4P"
      }
    },
    {
      "cell_type": "code",
      "source": [
        "def isMonotonic(A):\n",
        " \n",
        "    return (all(A[i] <= A[i + 1] for i in range(len(A) - 1)) or\n",
        "            all(A[i] >= A[i + 1] for i in range(len(A) - 1)))\n",
        " \n",
        " \n",
        "# Driver program\n",
        "A = [6, 5, 4, 4]\n",
        " \n",
        "# Print required result\n",
        "print(isMonotonic(A))"
      ],
      "metadata": {
        "colab": {
          "base_uri": "https://localhost:8080/"
        },
        "id": "FRY1ggU6Pt3F",
        "outputId": "639f1bad-1834-4452-df1e-933c445c9c58"
      },
      "execution_count": 13,
      "outputs": [
        {
          "output_type": "stream",
          "name": "stdout",
          "text": [
            "True\n"
          ]
        }
      ]
    }
  ]
}