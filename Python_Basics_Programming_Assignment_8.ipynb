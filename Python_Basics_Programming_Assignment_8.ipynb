{
  "nbformat": 4,
  "nbformat_minor": 0,
  "metadata": {
    "colab": {
      "provenance": []
    },
    "kernelspec": {
      "name": "python3",
      "display_name": "Python 3"
    },
    "language_info": {
      "name": "python"
    }
  },
  "cells": [
    {
      "cell_type": "markdown",
      "source": [
        "### 1. Write a Python Program to Add Two Matrices?"
      ],
      "metadata": {
        "id": "E3BczEyFQZlx"
      }
    },
    {
      "cell_type": "code",
      "source": [
        "X = [[1,2,3],\n",
        "\t[4 ,5,6],\n",
        "\t[7 ,8,9]]\n",
        "\n",
        "Y = [[9,8,7],\n",
        "\t[6,5,4],\n",
        "\t[3,2,1]]\n",
        "\n",
        "\n",
        "result = [[0,0,0],\n",
        "\t\t[0,0,0],\n",
        "\t\t[0,0,0]]\n",
        "\n",
        "# iterate through rows\n",
        "for i in range(len(X)):\n",
        "# iterate through columns\n",
        "\tfor j in range(len(X[0])):\n",
        "\t\tresult[i][j] = X[i][j] + Y[i][j]\n",
        "\n",
        "for r in result:\n",
        "\tprint(r)\n"
      ],
      "metadata": {
        "colab": {
          "base_uri": "https://localhost:8080/"
        },
        "id": "Mnv6zAT4Qpk6",
        "outputId": "1852818e-b10e-4f1c-bbbe-b62b334b269c"
      },
      "execution_count": 1,
      "outputs": [
        {
          "output_type": "stream",
          "name": "stdout",
          "text": [
            "[10, 10, 10]\n",
            "[10, 10, 10]\n",
            "[10, 10, 10]\n"
          ]
        }
      ]
    },
    {
      "cell_type": "markdown",
      "source": [
        "### 2. Write a Python Program to Multiply Two Matrices?"
      ],
      "metadata": {
        "id": "gaRd6AtqQcSG"
      }
    },
    {
      "cell_type": "code",
      "source": [
        "A = [[12, 7, 3],\n",
        "\t[4, 5, 6],\n",
        "\t[7, 8, 9]]\n",
        "\n",
        "# take a 3x4 matrix\n",
        "B = [[5, 8, 1, 2],\n",
        "\t[6, 7, 3, 0],\n",
        "\t[4, 5, 9, 1]]\n",
        "\t\n",
        "result = [[0, 0, 0, 0],\n",
        "\t\t[0, 0, 0, 0],\n",
        "\t\t[0, 0, 0, 0]]\n",
        "\n",
        "# iterating by row of A\n",
        "for i in range(len(A)):\n",
        "\n",
        "\t# iterating by column by B\n",
        "\tfor j in range(len(B[0])):\n",
        "\n",
        "\t\t# iterating by rows of B\n",
        "\t\tfor k in range(len(B)):\n",
        "\t\t\tresult[i][j] += A[i][k] * B[k][j]\n",
        "\n",
        "for r in result:\n",
        "\tprint(r)\n"
      ],
      "metadata": {
        "colab": {
          "base_uri": "https://localhost:8080/"
        },
        "id": "5LaDwZNZRJQ0",
        "outputId": "d830fd37-3745-404c-b6c1-5c412146837e"
      },
      "execution_count": 2,
      "outputs": [
        {
          "output_type": "stream",
          "name": "stdout",
          "text": [
            "[114, 160, 60, 27]\n",
            "[74, 97, 73, 14]\n",
            "[119, 157, 112, 23]\n"
          ]
        }
      ]
    },
    {
      "cell_type": "markdown",
      "source": [
        "### 3. Write a Python Program to Transpose a Matrix?"
      ],
      "metadata": {
        "id": "mSXDYsfeQebc"
      }
    },
    {
      "cell_type": "code",
      "source": [
        "M = 3\n",
        "N = 4\n",
        "\n",
        "# This function stores\n",
        "# transpose of A[][] in B[][]\n",
        "\n",
        "def transpose(A, B):\n",
        "\n",
        "  for i in range(N):\n",
        "    for j in range(M):\n",
        "      B[i][j] = A[j][i]\n",
        "\n",
        "# driver code\n",
        "A = [ [1, 1, 1, 1],\n",
        "[2, 2, 2, 2],\n",
        "[3, 3, 3, 3]]\n",
        "\n",
        "\n",
        "# To store result\n",
        "B = [[0 for x in range(M)] for y in range(N)]\n",
        "\n",
        "transpose(A, B)\n",
        "\n",
        "print(\"Result matrix is\")\n",
        "for i in range(N):\n",
        "  for j in range(M):\n",
        "    print(B[i][j], \" \", end='')\n",
        "  print()\n"
      ],
      "metadata": {
        "colab": {
          "base_uri": "https://localhost:8080/"
        },
        "id": "_mhWq5RuRPle",
        "outputId": "30421756-fe90-4087-92d7-4cbd8eb9bc49"
      },
      "execution_count": 7,
      "outputs": [
        {
          "output_type": "stream",
          "name": "stdout",
          "text": [
            "Result matrix is\n",
            "1  2  3  \n",
            "1  2  3  \n",
            "1  2  3  \n",
            "1  2  3  \n"
          ]
        }
      ]
    },
    {
      "cell_type": "markdown",
      "source": [
        "### 4. Write a Python Program to Sort Words in Alphabetic Order?"
      ],
      "metadata": {
        "id": "VvGxSmpEQgnO"
      }
    },
    {
      "cell_type": "code",
      "source": [
        "def F(S):\n",
        "\tW = S.split(\" \")\n",
        "\tfor i in range(len(W)):\n",
        "\t\tW[i] = W[i].lower()\n",
        "\tW.sort()\n",
        "\n",
        "\t# return the sorted words\n",
        "\treturn ' '.join(W)\n",
        "\n",
        "# Driver code\n",
        "S = \"Its a beautiful day\"\n",
        "print(F(S))\n"
      ],
      "metadata": {
        "colab": {
          "base_uri": "https://localhost:8080/"
        },
        "id": "mtjAjBvJSfvs",
        "outputId": "52024418-899d-4a0c-c62c-9b808e76dc1a"
      },
      "execution_count": 9,
      "outputs": [
        {
          "output_type": "stream",
          "name": "stdout",
          "text": [
            "a beautiful day its\n"
          ]
        }
      ]
    },
    {
      "cell_type": "markdown",
      "source": [
        "### 5. Write a Python Program to Remove Punctuation From a String?"
      ],
      "metadata": {
        "id": "H2TKuG9RQi-o"
      }
    },
    {
      "cell_type": "code",
      "source": [
        "import string\n",
        "\n",
        "test_str = 'There is no one who loves pain itself, who seeks after it and wants to have it, simply because it is pain...'\n",
        "\n",
        "test_str = test_str.translate(str.maketrans('', '', string.punctuation))\n",
        "print(test_str)\n"
      ],
      "metadata": {
        "colab": {
          "base_uri": "https://localhost:8080/"
        },
        "id": "E5QmytgpSnYB",
        "outputId": "233469f1-95e8-4577-ec9f-4b36c30487a3"
      },
      "execution_count": 10,
      "outputs": [
        {
          "output_type": "stream",
          "name": "stdout",
          "text": [
            "There is no one who loves pain itself who seeks after it and wants to have it simply because it is pain\n"
          ]
        }
      ]
    },
    {
      "cell_type": "code",
      "source": [],
      "metadata": {
        "id": "ruUIm201TMF5"
      },
      "execution_count": null,
      "outputs": []
    }
  ]
}