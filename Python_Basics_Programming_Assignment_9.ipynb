{
  "nbformat": 4,
  "nbformat_minor": 0,
  "metadata": {
    "colab": {
      "provenance": []
    },
    "kernelspec": {
      "name": "python3",
      "display_name": "Python 3"
    },
    "language_info": {
      "name": "python"
    }
  },
  "cells": [
    {
      "cell_type": "markdown",
      "source": [
        "### 1. Write a Python program to check if the given number is a Disarium Number?"
      ],
      "metadata": {
        "id": "9wQFkOj5WWY5"
      }
    },
    {
      "cell_type": "code",
      "source": [
        "Number = int(input(\"Enter the Number to Check Disarium Number = \"))\n",
        "length = len(str(Number))\n",
        "\n",
        "Temp = Number\n",
        "Sum = 0\n",
        "rem = 0\n",
        "\n",
        "while Temp > 0:\n",
        "    rem = Temp % 10\n",
        "    Sum = Sum + int(rem**length)\n",
        "    Temp = Temp // 10\n",
        "    length = length - 1\n",
        "\n",
        "print(\"The Sum of the Digits = %d\" %Sum)\n",
        "\n",
        "if Sum == Number:\n",
        "    print(\"\\n%d is a Disarium Number.\" %Number)\n",
        "else:\n",
        "    print(\"%d is Not a Disarium Number.\" %Number)"
      ],
      "metadata": {
        "colab": {
          "base_uri": "https://localhost:8080/"
        },
        "id": "c3mjm_ViWnIz",
        "outputId": "a2d110f2-8868-444d-e2ea-21160dc40d5d"
      },
      "execution_count": null,
      "outputs": [
        {
          "output_type": "stream",
          "name": "stdout",
          "text": [
            "Enter the Number to Check Disarium Number = 135\n",
            "The Sum of the Digits = 135\n",
            "\n",
            "135 is a Disarium Number.\n"
          ]
        }
      ]
    },
    {
      "cell_type": "markdown",
      "source": [
        "### 2. Write a Python program to print all disarium numbers between 1 to 100?"
      ],
      "metadata": {
        "id": "ueffuPD0Wbbi"
      }
    },
    {
      "cell_type": "code",
      "source": [
        "def calculateLength(n):    \n",
        "    length = 0;    \n",
        "    while(n != 0):    \n",
        "        length = length + 1;    \n",
        "        n = n//10;    \n",
        "    return length;    \n",
        "     \n",
        "#sumOfDigits() will calculates the sum of digits powered with their respective position    \n",
        "def sumOfDigits(num):    \n",
        "    rem = sum = 0;    \n",
        "    len = calculateLength(num);    \n",
        "        \n",
        "    while(num > 0):    \n",
        "        rem = num%10;    \n",
        "        sum = sum + (rem**len);    \n",
        "        num = num//10;    \n",
        "        len = len - 1;    \n",
        "    return sum;    \n",
        "      \n",
        "result = 0;    \n",
        "     \n",
        "#Displays all disarium numbers between 1 and 100    \n",
        "print(\"Disarium numbers between 1 and 100 are\");    \n",
        "for i in range(1, 101):    \n",
        "    result = sumOfDigits(i);    \n",
        "        \n",
        "    if(result == i):    \n",
        "        print(i),    \n",
        "  "
      ],
      "metadata": {
        "colab": {
          "base_uri": "https://localhost:8080/"
        },
        "id": "tL94GkhRXoWA",
        "outputId": "172a4f30-6a1c-497e-cefb-a1a6c01b3042"
      },
      "execution_count": null,
      "outputs": [
        {
          "output_type": "stream",
          "name": "stdout",
          "text": [
            "Disarium numbers between 1 and 100 are\n",
            "1\n",
            "2\n",
            "3\n",
            "4\n",
            "5\n",
            "6\n",
            "7\n",
            "8\n",
            "9\n",
            "89\n"
          ]
        }
      ]
    },
    {
      "cell_type": "markdown",
      "source": [
        "### 3. Write a Python program to check if the given number is Happy Number?"
      ],
      "metadata": {
        "id": "iI9wC3XCWdl_"
      }
    },
    {
      "cell_type": "code",
      "source": [
        "def is_Happy_num(n):\n",
        "  past = set()\n",
        "  while n != 1:\n",
        "        n = sum(int(i)**2 for i in str(n))\n",
        "        if n in past:\n",
        "            return False\n",
        "        past.add(n)\n",
        "  return True"
      ],
      "metadata": {
        "id": "7zvBsQuXaXRB"
      },
      "execution_count": null,
      "outputs": []
    },
    {
      "cell_type": "code",
      "source": [
        "is_Happy_num(19)"
      ],
      "metadata": {
        "colab": {
          "base_uri": "https://localhost:8080/"
        },
        "id": "kS0fiC-xacRz",
        "outputId": "1ac3e8af-db3a-453c-b03a-714adcfa8089"
      },
      "execution_count": null,
      "outputs": [
        {
          "output_type": "execute_result",
          "data": {
            "text/plain": [
              "True"
            ]
          },
          "metadata": {},
          "execution_count": 13
        }
      ]
    },
    {
      "cell_type": "markdown",
      "source": [
        "### 4. Write a Python program to print all happy numbers between 1 and 100?"
      ],
      "metadata": {
        "id": "B7xxzHEJWfzw"
      }
    },
    {
      "cell_type": "code",
      "source": [
        "def isHappyNumber(num):    \n",
        "    rem = sum = 0    \n",
        "        \n",
        "    #Calculates the sum of squares of digits    \n",
        "    while(num > 0):    \n",
        "        rem = num%10    \n",
        "        sum = sum + (rem*rem)   \n",
        "        num = num//10    \n",
        "    return sum    \n",
        "            \n",
        "#Displays all happy numbers between 1 and 100    \n",
        "print(\"List of happy numbers between 1 and 100: \")    \n",
        "for i in range(1, 101):    \n",
        "    result = i    \n",
        "        \n",
        "    #Happy number always ends with 1 and     \n",
        "    #unhappy number ends in a cycle of repeating numbers which contains 4    \n",
        "    while(result != 1 and result != 4):    \n",
        "        result = isHappyNumber(result)    \n",
        "        \n",
        "    if(result == 1):    \n",
        "        print(i)       "
      ],
      "metadata": {
        "colab": {
          "base_uri": "https://localhost:8080/"
        },
        "id": "FG-O_xHbbOIx",
        "outputId": "1a912054-e220-4629-946d-3be5edfbd3e3"
      },
      "execution_count": null,
      "outputs": [
        {
          "output_type": "stream",
          "name": "stdout",
          "text": [
            "List of happy numbers between 1 and 100: \n",
            "1\n",
            "7\n",
            "10\n",
            "13\n",
            "19\n",
            "23\n",
            "28\n",
            "31\n",
            "32\n",
            "44\n",
            "49\n",
            "68\n",
            "70\n",
            "79\n",
            "82\n",
            "86\n",
            "91\n",
            "94\n",
            "97\n",
            "100\n"
          ]
        }
      ]
    },
    {
      "cell_type": "markdown",
      "source": [
        "### 5. Write a Python program to determine whether the given number is a Harshad Number?"
      ],
      "metadata": {
        "id": "VvSsMM7YWiHC"
      }
    },
    {
      "cell_type": "code",
      "source": [
        "number = int(input('Enter number: '))\n",
        "\n",
        "# Making copy of number for later use\n",
        "copy = number\n",
        "\n",
        "# Finding sum of digit\n",
        "digit_sum = 0\n",
        "\n",
        "while number:\n",
        "    digit_sum += number%10\n",
        "    number //= 10\n",
        "\n",
        "# Checking divisibility & making decision\n",
        "if copy%digit_sum == 0:\n",
        "    print('%d is Harshad Number' % (copy))\n",
        "else:\n",
        "    print('%d is Not Harshad Number' % (copy))"
      ],
      "metadata": {
        "colab": {
          "base_uri": "https://localhost:8080/"
        },
        "id": "NV41SEaXbxH9",
        "outputId": "f190fd0d-c0e6-4495-ac2c-1127c6b955d8"
      },
      "execution_count": null,
      "outputs": [
        {
          "output_type": "stream",
          "name": "stdout",
          "text": [
            "Enter number: 153\n",
            "153 is Harshad Number\n"
          ]
        }
      ]
    },
    {
      "cell_type": "markdown",
      "source": [
        "### 6. Write a Python program to print all pronic numbers between 1 and 100?"
      ],
      "metadata": {
        "id": "OumZUmJbWkbs"
      }
    },
    {
      "cell_type": "code",
      "source": [
        "def isPronicNumber(num):    \n",
        "  flag = False;    \n",
        "  for j in range(1, num+1):    \n",
        "  #Checks for pronic number by multiplying consecutive numbers    \n",
        "    if((j*(j+1)) == num):    \n",
        "      flag = True;    \n",
        "      break;    \n",
        "  return flag;    \n",
        "#Displays pronic numbers between 1 and 100    \n",
        "print(\"Pronic numbers between 1 and 100: \");    \n",
        "for i in range(1, 101):    \n",
        "  if(isPronicNumber(i)):    \n",
        "    print(i),    \n"
      ],
      "metadata": {
        "colab": {
          "base_uri": "https://localhost:8080/"
        },
        "id": "svDofb9WcgzN",
        "outputId": "5b6a35c8-f66d-4961-a442-e848c228dbf2"
      },
      "execution_count": null,
      "outputs": [
        {
          "output_type": "stream",
          "name": "stdout",
          "text": [
            "Pronic numbers between 1 and 100: \n",
            "2\n",
            "6\n",
            "12\n",
            "20\n",
            "30\n",
            "42\n",
            "56\n",
            "72\n",
            "90\n"
          ]
        }
      ]
    }
  ]
}